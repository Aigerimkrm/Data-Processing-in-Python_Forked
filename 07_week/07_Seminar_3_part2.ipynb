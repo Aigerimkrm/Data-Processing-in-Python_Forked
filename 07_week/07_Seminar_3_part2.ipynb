{
 "cells": [
  {
   "cell_type": "markdown",
   "metadata": {},
   "source": [
    "# Additional information to Data Formats and API\n",
    "\n",
    "Summary of options\n",
    "\n",
    "## Data Serialization and Formats\n",
    "Serialization is the process of converting data structures or objects into a format that can be easily stored and shared. Common data formats in Python include:\n",
    "- **JSON**: Lightweight and commonly used for APIs.\n",
    "- **CSV**: Ideal for tabular data, especially in spreadsheets.\n",
    "- **YAML**: Human-readable and used for configurations.\n",
    "- **Parquet**: Columnar storage format optimized for big data applications.\n"
   ]
  },
  {
   "cell_type": "markdown",
   "metadata": {},
   "source": []
  },
  {
   "cell_type": "markdown",
   "metadata": {},
   "source": [
    "## JSON\n",
    "\n",
    "- **Markdown:** Introduction to JSON, its structure, and its typical uses.\n",
    "- **Code cell:** Reading and writing JSON.\n",
    "- **Expected output**: Print statement showing the loaded JSON data.\n",
    "    "
   ]
  },
  {
   "cell_type": "code",
   "execution_count": 1,
   "metadata": {},
   "outputs": [],
   "source": [
    "import pandas as pd"
   ]
  },
  {
   "cell_type": "code",
   "execution_count": 2,
   "metadata": {},
   "outputs": [
    {
     "name": "stdout",
     "output_type": "stream",
     "text": [
      "mkdir: data: File exists\n"
     ]
    }
   ],
   "source": [
    "!mkdir data"
   ]
  },
  {
   "cell_type": "code",
   "execution_count": 3,
   "metadata": {},
   "outputs": [
    {
     "name": "stdout",
     "output_type": "stream",
     "text": [
      "Loaded JSON data: {'name': 'Alice', 'age': 30, 'is_member': True, 'hobbies': ['reading', 'biking', 'coding']}\n"
     ]
    }
   ],
   "source": [
    "import json\n",
    "    \n",
    "data = {\n",
    "    \"name\": \"Alice\",\n",
    "    \"age\": 30,\n",
    "    \"is_member\": True,\n",
    "    \"hobbies\": [\"reading\", \"biking\", \"coding\"]\n",
    "}\n",
    "\n",
    "# Serialize to JSON\n",
    "with open('data/data.json', 'w') as f:\n",
    "    json.dump(data, f)\n",
    "\n",
    "# Deserialize JSON\n",
    "with open('data/data.json', 'r') as f:\n",
    "    data_loaded = json.load(f)\n",
    "\n",
    "print(\"Loaded JSON data:\", data_loaded)"
   ]
  },
  {
   "cell_type": "code",
   "execution_count": 4,
   "metadata": {},
   "outputs": [
    {
     "data": {
      "text/html": [
       "<div>\n",
       "<style scoped>\n",
       "    .dataframe tbody tr th:only-of-type {\n",
       "        vertical-align: middle;\n",
       "    }\n",
       "\n",
       "    .dataframe tbody tr th {\n",
       "        vertical-align: top;\n",
       "    }\n",
       "\n",
       "    .dataframe thead th {\n",
       "        text-align: right;\n",
       "    }\n",
       "</style>\n",
       "<table border=\"1\" class=\"dataframe\">\n",
       "  <thead>\n",
       "    <tr style=\"text-align: right;\">\n",
       "      <th></th>\n",
       "      <th>name</th>\n",
       "      <th>age</th>\n",
       "      <th>is_member</th>\n",
       "      <th>hobbies</th>\n",
       "    </tr>\n",
       "  </thead>\n",
       "  <tbody>\n",
       "    <tr>\n",
       "      <th>0</th>\n",
       "      <td>Alice</td>\n",
       "      <td>30</td>\n",
       "      <td>True</td>\n",
       "      <td>reading</td>\n",
       "    </tr>\n",
       "    <tr>\n",
       "      <th>1</th>\n",
       "      <td>Alice</td>\n",
       "      <td>30</td>\n",
       "      <td>True</td>\n",
       "      <td>biking</td>\n",
       "    </tr>\n",
       "    <tr>\n",
       "      <th>2</th>\n",
       "      <td>Alice</td>\n",
       "      <td>30</td>\n",
       "      <td>True</td>\n",
       "      <td>coding</td>\n",
       "    </tr>\n",
       "  </tbody>\n",
       "</table>\n",
       "</div>"
      ],
      "text/plain": [
       "    name  age  is_member  hobbies\n",
       "0  Alice   30       True  reading\n",
       "1  Alice   30       True   biking\n",
       "2  Alice   30       True   coding"
      ]
     },
     "execution_count": 4,
     "metadata": {},
     "output_type": "execute_result"
    }
   ],
   "source": [
    "pd.DataFrame(data_loaded)"
   ]
  },
  {
   "cell_type": "markdown",
   "metadata": {},
   "source": [
    "### CSV\n",
    "\n",
    "- **Markdown:** Explanation of CSV format and use cases.\n",
    "- **Code cell:** Writing data to a CSV file and reading from it."
   ]
  },
  {
   "cell_type": "code",
   "execution_count": 5,
   "metadata": {},
   "outputs": [
    {
     "name": "stdout",
     "output_type": "stream",
     "text": [
      "['Name', 'Age', 'Occupation']\n",
      "['Alice', '30', 'Engineer']\n",
      "['Bob', '25', 'Designer']\n",
      "['Charlie', '35', 'Teacher']\n"
     ]
    }
   ],
   "source": [
    "import csv\n",
    "    \n",
    "# Sample data\n",
    "data = [\n",
    "    [\"Name\", \"Age\", \"Occupation\"],\n",
    "    [\"Alice\", 30, \"Engineer\"],\n",
    "    [\"Bob\", 25, \"Designer\"],\n",
    "    [\"Charlie\", 35, \"Teacher\"]\n",
    "]\n",
    "\n",
    "# Write to CSV\n",
    "with open('data/data.csv', 'w', newline='') as f:\n",
    "    writer = csv.writer(f)\n",
    "    writer.writerows(data)\n",
    "\n",
    "# Read CSV\n",
    "csv_data = []\n",
    "with open('data/data.csv', 'r') as f:\n",
    "    reader = csv.reader(f)\n",
    "    for row in reader:\n",
    "        print(row)\n",
    "        csv_data.append(row)"
   ]
  },
  {
   "cell_type": "code",
   "execution_count": 6,
   "metadata": {},
   "outputs": [
    {
     "data": {
      "text/html": [
       "<div>\n",
       "<style scoped>\n",
       "    .dataframe tbody tr th:only-of-type {\n",
       "        vertical-align: middle;\n",
       "    }\n",
       "\n",
       "    .dataframe tbody tr th {\n",
       "        vertical-align: top;\n",
       "    }\n",
       "\n",
       "    .dataframe thead th {\n",
       "        text-align: right;\n",
       "    }\n",
       "</style>\n",
       "<table border=\"1\" class=\"dataframe\">\n",
       "  <thead>\n",
       "    <tr style=\"text-align: right;\">\n",
       "      <th></th>\n",
       "      <th>0</th>\n",
       "      <th>1</th>\n",
       "      <th>2</th>\n",
       "    </tr>\n",
       "  </thead>\n",
       "  <tbody>\n",
       "    <tr>\n",
       "      <th>0</th>\n",
       "      <td>Name</td>\n",
       "      <td>Age</td>\n",
       "      <td>Occupation</td>\n",
       "    </tr>\n",
       "    <tr>\n",
       "      <th>1</th>\n",
       "      <td>Alice</td>\n",
       "      <td>30</td>\n",
       "      <td>Engineer</td>\n",
       "    </tr>\n",
       "    <tr>\n",
       "      <th>2</th>\n",
       "      <td>Bob</td>\n",
       "      <td>25</td>\n",
       "      <td>Designer</td>\n",
       "    </tr>\n",
       "    <tr>\n",
       "      <th>3</th>\n",
       "      <td>Charlie</td>\n",
       "      <td>35</td>\n",
       "      <td>Teacher</td>\n",
       "    </tr>\n",
       "  </tbody>\n",
       "</table>\n",
       "</div>"
      ],
      "text/plain": [
       "         0    1           2\n",
       "0     Name  Age  Occupation\n",
       "1    Alice   30    Engineer\n",
       "2      Bob   25    Designer\n",
       "3  Charlie   35     Teacher"
      ]
     },
     "execution_count": 6,
     "metadata": {},
     "output_type": "execute_result"
    }
   ],
   "source": [
    "pd.DataFrame(csv_data)"
   ]
  },
  {
   "cell_type": "markdown",
   "metadata": {},
   "source": [
    "### YAML\n",
    "\n",
    "- **Markdown:** Overview of YAML and its use in configurations.\n",
    "- **Code cell:** Writing and reading YAML data."
   ]
  },
  {
   "cell_type": "code",
   "execution_count": 7,
   "metadata": {},
   "outputs": [],
   "source": [
    "# !pip3 install pyyaml"
   ]
  },
  {
   "cell_type": "code",
   "execution_count": 8,
   "metadata": {},
   "outputs": [
    {
     "name": "stdout",
     "output_type": "stream",
     "text": [
      "Loaded YAML data: {'age': 30, 'hobbies': ['reading', 'biking', 'coding'], 'is_member': True, 'name': 'Alice'}\n"
     ]
    }
   ],
   "source": [
    "import yaml\n",
    "\n",
    "data = {\n",
    "    \"name\": \"Alice\",\n",
    "    \"age\": 30,\n",
    "    \"is_member\": True,\n",
    "    \"hobbies\": [\"reading\", \"biking\", \"coding\"]\n",
    "}\n",
    "\n",
    "# Write YAML\n",
    "with open('data/data.yaml', 'w') as f:\n",
    "    yaml.dump(data, f)\n",
    "\n",
    "# Read YAML\n",
    "with open('data/data.yaml', 'r') as f:\n",
    "    data_loaded = yaml.safe_load(f)\n",
    "\n",
    "print(\"Loaded YAML data:\", data_loaded)"
   ]
  },
  {
   "cell_type": "markdown",
   "metadata": {},
   "source": [
    "### Parquet\n",
    "\n",
    "- **Markdown:** Introduction to Parquet, commonly used for large datasets and data processing.\n",
    "- **Code cell:** Writing to and reading from a Parquet file using Pandas."
   ]
  },
  {
   "cell_type": "code",
   "execution_count": 9,
   "metadata": {},
   "outputs": [],
   "source": [
    "# !pip3 install parquet\n",
    "# !pip3 install pyarrow"
   ]
  },
  {
   "cell_type": "code",
   "execution_count": 10,
   "metadata": {},
   "outputs": [
    {
     "name": "stdout",
     "output_type": "stream",
     "text": [
      "Loaded Parquet data:\n",
      "      Name  Age Occupation\n",
      "0    Alice   30   Engineer\n",
      "1      Bob   25   Designer\n",
      "2  Charlie   35    Teacher\n"
     ]
    }
   ],
   "source": [
    "import pandas as pd\n",
    "\n",
    "# Sample data\n",
    "df = pd.DataFrame({\n",
    "    'Name': ['Alice', 'Bob', 'Charlie'],\n",
    "    'Age': [30, 25, 35],\n",
    "    'Occupation': ['Engineer', 'Designer', 'Teacher']\n",
    "})\n",
    "\n",
    "# Write Parquet\n",
    "df.to_parquet('data/data.parquet')\n",
    "\n",
    "# Read Parquet\n",
    "df_loaded = pd.read_parquet('data/data.parquet')\n",
    "print(\"Loaded Parquet data:\")\n",
    "print(df_loaded)"
   ]
  },
  {
   "cell_type": "code",
   "execution_count": 11,
   "metadata": {},
   "outputs": [
    {
     "data": {
      "text/html": [
       "<div>\n",
       "<style scoped>\n",
       "    .dataframe tbody tr th:only-of-type {\n",
       "        vertical-align: middle;\n",
       "    }\n",
       "\n",
       "    .dataframe tbody tr th {\n",
       "        vertical-align: top;\n",
       "    }\n",
       "\n",
       "    .dataframe thead th {\n",
       "        text-align: right;\n",
       "    }\n",
       "</style>\n",
       "<table border=\"1\" class=\"dataframe\">\n",
       "  <thead>\n",
       "    <tr style=\"text-align: right;\">\n",
       "      <th></th>\n",
       "      <th>Name</th>\n",
       "      <th>Age</th>\n",
       "      <th>Occupation</th>\n",
       "    </tr>\n",
       "  </thead>\n",
       "  <tbody>\n",
       "    <tr>\n",
       "      <th>0</th>\n",
       "      <td>Alice</td>\n",
       "      <td>30</td>\n",
       "      <td>Engineer</td>\n",
       "    </tr>\n",
       "    <tr>\n",
       "      <th>1</th>\n",
       "      <td>Bob</td>\n",
       "      <td>25</td>\n",
       "      <td>Designer</td>\n",
       "    </tr>\n",
       "    <tr>\n",
       "      <th>2</th>\n",
       "      <td>Charlie</td>\n",
       "      <td>35</td>\n",
       "      <td>Teacher</td>\n",
       "    </tr>\n",
       "  </tbody>\n",
       "</table>\n",
       "</div>"
      ],
      "text/plain": [
       "      Name  Age Occupation\n",
       "0    Alice   30   Engineer\n",
       "1      Bob   25   Designer\n",
       "2  Charlie   35    Teacher"
      ]
     },
     "execution_count": 11,
     "metadata": {},
     "output_type": "execute_result"
    }
   ],
   "source": [
    "pd.DataFrame(df_loaded)"
   ]
  },
  {
   "cell_type": "markdown",
   "metadata": {},
   "source": [
    "## Data Connections and Databases\n",
    "\n",
    "### `Data Connections in Python: SQL and NoSQL`\n",
    "\n",
    "1. **Introduction to Databases**\n",
    "    - **Markdown:** Overview of SQL and NoSQL databases, their differences, and common use cases.\n",
    "2. **SQL with SQLite**\n",
    "    - **Markdown:** Introduction to SQLite, a lightweight SQL database.\n",
    "    - **Code cell:** Creating a table, inserting data, and querying."
   ]
  },
  {
   "cell_type": "code",
   "execution_count": 12,
   "metadata": {},
   "outputs": [
    {
     "name": "stdout",
     "output_type": "stream",
     "text": [
      "Database records: [(1, 'Alice', 30, 'Engineer'), (2, 'Bob', 25, 'Designer'), (3, 'Charlie', 35, 'Teacher')]\n"
     ]
    }
   ],
   "source": [
    "import sqlite3\n",
    "\n",
    "conn = sqlite3.connect('data/example2.db') # Create a database file\n",
    "cursor = conn.cursor() # Create a cursor object\n",
    "\n",
    "cursor.execute('''\n",
    "CREATE TABLE IF NOT EXISTS users (\n",
    "    id INTEGER PRIMARY KEY,\n",
    "    name TEXT,\n",
    "    age INTEGER,\n",
    "    occupation TEXT\n",
    ")\n",
    "''')\n",
    "\n",
    "users = [(1, 'Alice', 30, 'Engineer'),\n",
    "            (2, 'Bob', 25, 'Designer'),\n",
    "            (3, 'Charlie', 35, 'Teacher')]\n",
    "\n",
    "cursor.executemany(\"INSERT INTO users VALUES (?, ?, ?, ?)\", users)\n",
    "conn.commit()\n",
    "\n",
    "cursor.execute(\"SELECT * FROM users\")\n",
    "results = cursor.fetchall()\n",
    "\n",
    "print(\"Database records:\", results)\n",
    "\n",
    "conn.close()"
   ]
  },
  {
   "cell_type": "code",
   "execution_count": 13,
   "metadata": {},
   "outputs": [
    {
     "data": {
      "text/html": [
       "<div>\n",
       "<style scoped>\n",
       "    .dataframe tbody tr th:only-of-type {\n",
       "        vertical-align: middle;\n",
       "    }\n",
       "\n",
       "    .dataframe tbody tr th {\n",
       "        vertical-align: top;\n",
       "    }\n",
       "\n",
       "    .dataframe thead th {\n",
       "        text-align: right;\n",
       "    }\n",
       "</style>\n",
       "<table border=\"1\" class=\"dataframe\">\n",
       "  <thead>\n",
       "    <tr style=\"text-align: right;\">\n",
       "      <th></th>\n",
       "      <th>0</th>\n",
       "      <th>1</th>\n",
       "      <th>2</th>\n",
       "      <th>3</th>\n",
       "    </tr>\n",
       "  </thead>\n",
       "  <tbody>\n",
       "    <tr>\n",
       "      <th>0</th>\n",
       "      <td>1</td>\n",
       "      <td>Alice</td>\n",
       "      <td>30</td>\n",
       "      <td>Engineer</td>\n",
       "    </tr>\n",
       "    <tr>\n",
       "      <th>1</th>\n",
       "      <td>2</td>\n",
       "      <td>Bob</td>\n",
       "      <td>25</td>\n",
       "      <td>Designer</td>\n",
       "    </tr>\n",
       "    <tr>\n",
       "      <th>2</th>\n",
       "      <td>3</td>\n",
       "      <td>Charlie</td>\n",
       "      <td>35</td>\n",
       "      <td>Teacher</td>\n",
       "    </tr>\n",
       "  </tbody>\n",
       "</table>\n",
       "</div>"
      ],
      "text/plain": [
       "   0        1   2         3\n",
       "0  1    Alice  30  Engineer\n",
       "1  2      Bob  25  Designer\n",
       "2  3  Charlie  35   Teacher"
      ]
     },
     "execution_count": 13,
     "metadata": {},
     "output_type": "execute_result"
    }
   ],
   "source": [
    "pd.DataFrame(results)"
   ]
  },
  {
   "cell_type": "code",
   "execution_count": 14,
   "metadata": {},
   "outputs": [],
   "source": [
    "conn = sqlite3.connect('data/example2.db') # Create a database file\n",
    "cursor = conn.cursor() # Create a cursor object\n",
    "\n",
    "db_sel = cursor.execute(\"SELECT * FROM users\")\n",
    "db2 = db_sel.fetchall()\n",
    "\n",
    "conn.close()"
   ]
  },
  {
   "cell_type": "code",
   "execution_count": 15,
   "metadata": {},
   "outputs": [
    {
     "data": {
      "text/plain": [
       "[(1, 'Alice', 30, 'Engineer'),\n",
       " (2, 'Bob', 25, 'Designer'),\n",
       " (3, 'Charlie', 35, 'Teacher')]"
      ]
     },
     "execution_count": 15,
     "metadata": {},
     "output_type": "execute_result"
    }
   ],
   "source": [
    "db2"
   ]
  },
  {
   "cell_type": "markdown",
   "metadata": {},
   "source": [
    "## SQL, sqlite example from chatGPT\n",
    "\n",
    "- `prompt`: use a sqlite and create a sample database of 5 columns and 20 items of random fruits and trees."
   ]
  },
  {
   "cell_type": "code",
   "execution_count": 16,
   "metadata": {},
   "outputs": [
    {
     "data": {
      "text/plain": [
       "[(1, 'Cherry', 'Fir', 42, 2.32),\n",
       " (2, 'Mango', 'Oak', 44, 4.13),\n",
       " (3, 'Quince', 'Eucalyptus', 21, 1.49),\n",
       " (4, 'Papaya', 'Hemlock', 16, 1.68),\n",
       " (5, 'Kiwi', 'Sequoia', 92, 3.63),\n",
       " (6, 'Date', 'Acacia', 99, 1.47),\n",
       " (7, 'Date', 'Redwood', 80, 1.31),\n",
       " (8, 'Strawberry', 'Cypress', 64, 4.25),\n",
       " (9, 'Quince', 'Cedar', 29, 2.38),\n",
       " (10, 'Quince', 'Eucalyptus', 93, 2.0),\n",
       " (11, 'Fig', 'Hemlock', 53, 1.49),\n",
       " (12, 'Grapefruit', 'Acacia', 20, 2.04),\n",
       " (13, 'Kiwi', 'Maple', 17, 1.86),\n",
       " (14, 'Jackfruit', 'Fir', 95, 1.37),\n",
       " (15, 'Quince', 'Hemlock', 56, 3.34),\n",
       " (16, 'Papaya', 'Sycamore', 19, 3.94),\n",
       " (17, 'Honeydew', 'Willow', 38, 2.43),\n",
       " (18, 'Jackfruit', 'Willow', 31, 4.88),\n",
       " (19, 'Kiwi', 'Palm', 70, 3.87),\n",
       " (20, 'Date', 'Chestnut', 75, 2.27)]"
      ]
     },
     "execution_count": 16,
     "metadata": {},
     "output_type": "execute_result"
    }
   ],
   "source": [
    "import sqlite3\n",
    "import random\n",
    "\n",
    "# Sample fruit and tree data to use\n",
    "fruit_names = [\"Apple\", \"Banana\", \"Cherry\", \"Date\", \"Elderberry\", \"Fig\", \"Grapefruit\", \"Honeydew\", \"Indian Fig\", \"Jackfruit\",\n",
    "               \"Kiwi\", \"Lemon\", \"Mango\", \"Nectarine\", \"Orange\", \"Papaya\", \"Quince\", \"Raspberry\", \"Strawberry\", \"Tangerine\"]\n",
    "tree_types = [\"Oak\", \"Maple\", \"Pine\", \"Birch\", \"Cedar\", \"Spruce\", \"Palm\", \"Redwood\", \"Cypress\", \"Sycamore\",\n",
    "              \"Willow\", \"Beech\", \"Aspen\", \"Fir\", \"Hemlock\", \"Sequoia\", \"Eucalyptus\", \"Acacia\", \"Hickory\", \"Chestnut\"]\n",
    "\n",
    "# Create a SQLite database in memory and a cursor\n",
    "conn = sqlite3.connect(':memory:')\n",
    "cursor = conn.cursor()\n",
    "\n",
    "# Create the table with 5 columns: ID, FruitName, TreeType, Quantity, and PricePerUnit\n",
    "cursor.execute('''\n",
    "CREATE TABLE FruitsAndTrees (\n",
    "    ID INTEGER PRIMARY KEY,\n",
    "    FruitName TEXT,\n",
    "    TreeType TEXT,\n",
    "    Quantity INTEGER,\n",
    "    PricePerUnit REAL\n",
    ")\n",
    "''')\n",
    "\n",
    "# Populate the table with 20 random entries\n",
    "for i in range(20):\n",
    "    fruit_name = random.choice(fruit_names)\n",
    "    tree_type = random.choice(tree_types)\n",
    "    quantity = random.randint(10, 100)  # Random quantity between 10 and 100\n",
    "    price_per_unit = round(random.uniform(0.5, 5.0), 2)  # Random price between 0.5 and 5.0\n",
    "\n",
    "    cursor.execute('''\n",
    "    INSERT INTO FruitsAndTrees (FruitName, TreeType, Quantity, PricePerUnit)\n",
    "    VALUES (?, ?, ?, ?)\n",
    "    ''', (fruit_name, tree_type, quantity, price_per_unit))\n",
    "\n",
    "# Commit the transaction\n",
    "conn.commit()\n",
    "\n",
    "# Query the database to verify entries\n",
    "cursor.execute(\"SELECT * FROM FruitsAndTrees\")\n",
    "sample_data = cursor.fetchall()\n",
    "\n",
    "# Close the database connection after querying\n",
    "conn.close()\n",
    "\n",
    "sample_data\n"
   ]
  },
  {
   "cell_type": "markdown",
   "metadata": {},
   "source": [
    "### **NoSQL with MongoDB**\n",
    "\n",
    "- **Markdown:** Overview of NoSQL databases, specifically MongoDB.\n",
    "- **Code cell:** Inserting and querying documents with MongoDB (requires MongoDB server or MongoDB Atlas setup)."
   ]
  },
  {
   "cell_type": "code",
   "execution_count": 17,
   "metadata": {},
   "outputs": [],
   "source": [
    "# from pymongo import MongoClient\n",
    "\n",
    "# client = MongoClient(\"mongodb://localhost:27017/\")\n",
    "# db = client[\"seminar_db\"]\n",
    "# collection = db[\"users\"]\n",
    "\n",
    "# users = [\n",
    "#     {\"name\": \"Alice\", \"age\": 30, \"occupation\": \"Engineer\"},\n",
    "#     {\"name\": \"Bob\", \"age\": 25, \"occupation\": \"Designer\"},\n",
    "#     {\"name\": \"Charlie\", \"age\": 35, \"occupation\": \"Teacher\"}\n",
    "# ]\n",
    "# collection.insert_many(users)\n",
    "\n",
    "# for user in collection.find():\n",
    "#     print(\"MongoDB record:\", user)"
   ]
  },
  {
   "cell_type": "markdown",
   "metadata": {},
   "source": []
  },
  {
   "cell_type": "markdown",
   "metadata": {},
   "source": [
    "## Working with Requests and HTTP\n",
    "\n",
    "### `Making HTTP Requests in Python`\n",
    "\n",
    "1. **Introduction to HTTP and Requests**\n",
    "    - **Markdown:** Basic overview of HTTP methods and requests.\n",
    "2. **GET and POST Requests**\n",
    "    - **Markdown:** Explanation of GET vs. POST requests.\n",
    "    - **Code cell:** Making sample GET and POST requests with the `requests` library."
   ]
  },
  {
   "cell_type": "code",
   "execution_count": 18,
   "metadata": {},
   "outputs": [],
   "source": [
    "# !pip3 install requests"
   ]
  },
  {
   "cell_type": "code",
   "execution_count": 19,
   "metadata": {},
   "outputs": [
    {
     "name": "stdout",
     "output_type": "stream",
     "text": [
      "GET response: {'userId': 1, 'id': 1, 'title': 'sunt aut facere repellat provident occaecati excepturi optio reprehenderit', 'body': 'quia et suscipit\\nsuscipit recusandae consequuntur expedita et cum\\nreprehenderit molestiae ut ut quas totam\\nnostrum rerum est autem sunt rem eveniet architecto'}\n",
      "POST response: {'title': 'New Post', 'body': 'This is the body', 'userId': 1, 'id': 101}\n"
     ]
    }
   ],
   "source": [
    "import requests\n",
    "\n",
    "response = requests.get(\"https://jsonplaceholder.typicode.com/posts/1\")\n",
    "print(\"GET response:\", response.json())\n",
    "\n",
    "payload = {\"title\": \"New Post\", \"body\": \"This is the body\", \"userId\": 1}\n",
    "response = requests.post(\"https://jsonplaceholder.typicode.com/posts\", json=payload)\n",
    "print(\"POST response:\", response.json())"
   ]
  },
  {
   "cell_type": "markdown",
   "metadata": {},
   "source": [
    "## Working with APIs\n",
    "\n",
    "### `API Interaction with Python`\n",
    "\n",
    "1. **Introduction to APIs**\n",
    "    - **Markdown:** Overview of RESTful APIs and common practices.\n",
    "2. **GitHub API Example**\n",
    "    - **Markdown:** Walkthrough of accessing GitHub API to get repository data.\n",
    "    - **Code cell:** Making a GET request to GitHub’s API."
   ]
  },
  {
   "cell_type": "code",
   "execution_count": 20,
   "metadata": {},
   "outputs": [
    {
     "name": "stdout",
     "output_type": "stream",
     "text": [
      "Repository Name: cpython\n",
      "Stars: 63444\n",
      "Forks: 30380\n"
     ]
    }
   ],
   "source": [
    "url = \"https://api.github.com/repos/python/cpython\"\n",
    "response = requests.get(url)\n",
    "data = response.json()\n",
    "\n",
    "print(\"Repository Name:\", data[\"name\"])\n",
    "print(\"Stars:\", data[\"stargazers_count\"])\n",
    "print(\"Forks:\", data[\"forks_count\"])"
   ]
  },
  {
   "cell_type": "code",
   "execution_count": 21,
   "metadata": {},
   "outputs": [
    {
     "data": {
      "text/plain": [
       "{'id': 81598961,\n",
       " 'node_id': 'MDEwOlJlcG9zaXRvcnk4MTU5ODk2MQ==',\n",
       " 'name': 'cpython',\n",
       " 'full_name': 'python/cpython',\n",
       " 'private': False,\n",
       " 'owner': {'login': 'python',\n",
       "  'id': 1525981,\n",
       "  'node_id': 'MDEyOk9yZ2FuaXphdGlvbjE1MjU5ODE=',\n",
       "  'avatar_url': 'https://avatars.githubusercontent.com/u/1525981?v=4',\n",
       "  'gravatar_id': '',\n",
       "  'url': 'https://api.github.com/users/python',\n",
       "  'html_url': 'https://github.com/python',\n",
       "  'followers_url': 'https://api.github.com/users/python/followers',\n",
       "  'following_url': 'https://api.github.com/users/python/following{/other_user}',\n",
       "  'gists_url': 'https://api.github.com/users/python/gists{/gist_id}',\n",
       "  'starred_url': 'https://api.github.com/users/python/starred{/owner}{/repo}',\n",
       "  'subscriptions_url': 'https://api.github.com/users/python/subscriptions',\n",
       "  'organizations_url': 'https://api.github.com/users/python/orgs',\n",
       "  'repos_url': 'https://api.github.com/users/python/repos',\n",
       "  'events_url': 'https://api.github.com/users/python/events{/privacy}',\n",
       "  'received_events_url': 'https://api.github.com/users/python/received_events',\n",
       "  'type': 'Organization',\n",
       "  'user_view_type': 'public',\n",
       "  'site_admin': False},\n",
       " 'html_url': 'https://github.com/python/cpython',\n",
       " 'description': 'The Python programming language',\n",
       " 'fork': False,\n",
       " 'url': 'https://api.github.com/repos/python/cpython',\n",
       " 'forks_url': 'https://api.github.com/repos/python/cpython/forks',\n",
       " 'keys_url': 'https://api.github.com/repos/python/cpython/keys{/key_id}',\n",
       " 'collaborators_url': 'https://api.github.com/repos/python/cpython/collaborators{/collaborator}',\n",
       " 'teams_url': 'https://api.github.com/repos/python/cpython/teams',\n",
       " 'hooks_url': 'https://api.github.com/repos/python/cpython/hooks',\n",
       " 'issue_events_url': 'https://api.github.com/repos/python/cpython/issues/events{/number}',\n",
       " 'events_url': 'https://api.github.com/repos/python/cpython/events',\n",
       " 'assignees_url': 'https://api.github.com/repos/python/cpython/assignees{/user}',\n",
       " 'branches_url': 'https://api.github.com/repos/python/cpython/branches{/branch}',\n",
       " 'tags_url': 'https://api.github.com/repos/python/cpython/tags',\n",
       " 'blobs_url': 'https://api.github.com/repos/python/cpython/git/blobs{/sha}',\n",
       " 'git_tags_url': 'https://api.github.com/repos/python/cpython/git/tags{/sha}',\n",
       " 'git_refs_url': 'https://api.github.com/repos/python/cpython/git/refs{/sha}',\n",
       " 'trees_url': 'https://api.github.com/repos/python/cpython/git/trees{/sha}',\n",
       " 'statuses_url': 'https://api.github.com/repos/python/cpython/statuses/{sha}',\n",
       " 'languages_url': 'https://api.github.com/repos/python/cpython/languages',\n",
       " 'stargazers_url': 'https://api.github.com/repos/python/cpython/stargazers',\n",
       " 'contributors_url': 'https://api.github.com/repos/python/cpython/contributors',\n",
       " 'subscribers_url': 'https://api.github.com/repos/python/cpython/subscribers',\n",
       " 'subscription_url': 'https://api.github.com/repos/python/cpython/subscription',\n",
       " 'commits_url': 'https://api.github.com/repos/python/cpython/commits{/sha}',\n",
       " 'git_commits_url': 'https://api.github.com/repos/python/cpython/git/commits{/sha}',\n",
       " 'comments_url': 'https://api.github.com/repos/python/cpython/comments{/number}',\n",
       " 'issue_comment_url': 'https://api.github.com/repos/python/cpython/issues/comments{/number}',\n",
       " 'contents_url': 'https://api.github.com/repos/python/cpython/contents/{+path}',\n",
       " 'compare_url': 'https://api.github.com/repos/python/cpython/compare/{base}...{head}',\n",
       " 'merges_url': 'https://api.github.com/repos/python/cpython/merges',\n",
       " 'archive_url': 'https://api.github.com/repos/python/cpython/{archive_format}{/ref}',\n",
       " 'downloads_url': 'https://api.github.com/repos/python/cpython/downloads',\n",
       " 'issues_url': 'https://api.github.com/repos/python/cpython/issues{/number}',\n",
       " 'pulls_url': 'https://api.github.com/repos/python/cpython/pulls{/number}',\n",
       " 'milestones_url': 'https://api.github.com/repos/python/cpython/milestones{/number}',\n",
       " 'notifications_url': 'https://api.github.com/repos/python/cpython/notifications{?since,all,participating}',\n",
       " 'labels_url': 'https://api.github.com/repos/python/cpython/labels{/name}',\n",
       " 'releases_url': 'https://api.github.com/repos/python/cpython/releases{/id}',\n",
       " 'deployments_url': 'https://api.github.com/repos/python/cpython/deployments',\n",
       " 'created_at': '2017-02-10T19:23:51Z',\n",
       " 'updated_at': '2024-11-12T19:52:39Z',\n",
       " 'pushed_at': '2024-11-12T19:52:30Z',\n",
       " 'git_url': 'git://github.com/python/cpython.git',\n",
       " 'ssh_url': 'git@github.com:python/cpython.git',\n",
       " 'clone_url': 'https://github.com/python/cpython.git',\n",
       " 'svn_url': 'https://github.com/python/cpython',\n",
       " 'homepage': 'https://www.python.org',\n",
       " 'size': 643192,\n",
       " 'stargazers_count': 63444,\n",
       " 'watchers_count': 63444,\n",
       " 'language': 'Python',\n",
       " 'has_issues': True,\n",
       " 'has_projects': True,\n",
       " 'has_downloads': True,\n",
       " 'has_wiki': False,\n",
       " 'has_pages': False,\n",
       " 'has_discussions': False,\n",
       " 'forks_count': 30380,\n",
       " 'mirror_url': None,\n",
       " 'archived': False,\n",
       " 'disabled': False,\n",
       " 'open_issues_count': 8817,\n",
       " 'license': {'key': 'other',\n",
       "  'name': 'Other',\n",
       "  'spdx_id': 'NOASSERTION',\n",
       "  'url': None,\n",
       "  'node_id': 'MDc6TGljZW5zZTA='},\n",
       " 'allow_forking': True,\n",
       " 'is_template': False,\n",
       " 'web_commit_signoff_required': False,\n",
       " 'topics': [],\n",
       " 'visibility': 'public',\n",
       " 'forks': 30380,\n",
       " 'open_issues': 8817,\n",
       " 'watchers': 63444,\n",
       " 'default_branch': 'main',\n",
       " 'temp_clone_token': None,\n",
       " 'custom_properties': {},\n",
       " 'organization': {'login': 'python',\n",
       "  'id': 1525981,\n",
       "  'node_id': 'MDEyOk9yZ2FuaXphdGlvbjE1MjU5ODE=',\n",
       "  'avatar_url': 'https://avatars.githubusercontent.com/u/1525981?v=4',\n",
       "  'gravatar_id': '',\n",
       "  'url': 'https://api.github.com/users/python',\n",
       "  'html_url': 'https://github.com/python',\n",
       "  'followers_url': 'https://api.github.com/users/python/followers',\n",
       "  'following_url': 'https://api.github.com/users/python/following{/other_user}',\n",
       "  'gists_url': 'https://api.github.com/users/python/gists{/gist_id}',\n",
       "  'starred_url': 'https://api.github.com/users/python/starred{/owner}{/repo}',\n",
       "  'subscriptions_url': 'https://api.github.com/users/python/subscriptions',\n",
       "  'organizations_url': 'https://api.github.com/users/python/orgs',\n",
       "  'repos_url': 'https://api.github.com/users/python/repos',\n",
       "  'events_url': 'https://api.github.com/users/python/events{/privacy}',\n",
       "  'received_events_url': 'https://api.github.com/users/python/received_events',\n",
       "  'type': 'Organization',\n",
       "  'user_view_type': 'public',\n",
       "  'site_admin': False},\n",
       " 'network_count': 30380,\n",
       " 'subscribers_count': 1522}"
      ]
     },
     "execution_count": 21,
     "metadata": {},
     "output_type": "execute_result"
    }
   ],
   "source": [
    "data"
   ]
  },
  {
   "cell_type": "markdown",
   "metadata": {},
   "source": []
  }
 ],
 "metadata": {
  "kernelspec": {
   "display_name": "Python 3",
   "language": "python",
   "name": "python3"
  },
  "language_info": {
   "codemirror_mode": {
    "name": "ipython",
    "version": 3
   },
   "file_extension": ".py",
   "mimetype": "text/x-python",
   "name": "python",
   "nbconvert_exporter": "python",
   "pygments_lexer": "ipython3",
   "version": "3.11.10"
  }
 },
 "nbformat": 4,
 "nbformat_minor": 2
}
