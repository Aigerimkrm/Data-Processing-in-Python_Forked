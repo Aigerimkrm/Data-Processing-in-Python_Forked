{
 "cells": [
  {
   "cell_type": "markdown",
   "metadata": {},
   "source": [
    "# Lecture: Algorithmic problem solving\n",
    "\n",
    "November 19, 2024\n",
    "\n",
    "Note: Midterm on Monday November 25, 2024, 18:30 - 19:50 (80min) - submit link to github repository with a jupyter notebook (last possible commit 19:50)\n",
    "Practice: try to create a repository and upload a `.ipynb` there.\n",
    "\n",
    "**Algorithmic Thinking for Data Processing in Python**"
   ]
  },
  {
   "cell_type": "code",
   "execution_count": 1,
   "metadata": {},
   "outputs": [],
   "source": [
    "import numpy as np\n",
    "import pandas as pd\n",
    "import matplotlib.pyplot as plt"
   ]
  },
  {
   "cell_type": "markdown",
   "metadata": {},
   "source": [
    "## **Goals: Why Algorithms Are Essential**\n",
    "\n",
    "**Why do we need algorithms?**\n",
    "\n",
    "Algorithms are the cornerstone of computation. They allow us to systematically solve problems by defining **how to go from input to output**. Let’s use an analogy:\n",
    "\n",
    "- Think of a **recipe for baking a cake**:\n",
    "    - The ingredients are your **input** (flour, sugar, eggs, etc.).\n",
    "    - The baked cake is your **output**.\n",
    "    - The recipe itself is the **algorithm**: a step-by-step guide for achieving the desired result.\n",
    "\n",
    "Now, imagine baking for 1,000 people instead of 10. Without careful planning (efficient algorithms), the process becomes chaotic and inefficient. Similarly, in data analysis, algorithms ensure our solutions scale well with large datasets."
   ]
  },
  {
   "cell_type": "markdown",
   "metadata": {},
   "source": [
    "**Key Characteristics of Algorithms:**\n",
    "\n",
    "1. **Correctness:**\n",
    "    \n",
    "    An algorithm must consistently produce the right output. If it’s a sorting algorithm, the output should always be sorted.\n",
    "      - *Think of a navigation app like Google Maps. Correctness!*\n",
    "  \n",
    "2. **Efficiency:**\n",
    "    \n",
    "    Algorithms should use resources wisely, especially time and memory. Efficiency ensures solutions remain practical as input size grows.\n",
    "    - **Intuition:** A slow algorithm is like being stuck in traffic; an efficient one takes the fastest possible route to your destination.\n",
    "\n",
    "An **algorithm** is more than just code; it’s a logical procedure that works in any context."
   ]
  },
  {
   "cell_type": "markdown",
   "metadata": {},
   "source": [
    "## Problem:\n",
    "\n",
    "**Algorithms often solve a mapping problem**:\n",
    "\n",
    "- Set of inputs → space of outputs (m → n) mapping.\n",
    "- Binary relation between inputs and outputs, not necessarily strictly bijection (one-to-one).\n",
    "- Specify a predicate: Are there two people with the same birthday in the class today?\n",
    "\n",
    "- Mathematic problems - Scientific computing:\n",
    "    - What is the derivative of $x^2$ at $x=1$?\n",
    "- The algorithm should be general enough to apply to, say, C2 functions.\n",
    "    - Apply to arbitrarily large inputs.\n",
    "\n",
    "\n",
    "- **Input → Output:** A function that transforms data into the desired result.\n",
    "    - *Example:* Input = birthdays of people; Output = whether any two people share the same birthday.\n",
    "\n",
    "**Generalization and Abstraction:**\n",
    "\n",
    "- Good algorithms aren’t limited to specific cases; they generalize to handle **any input size** or **any variation of the problem**.\n",
    "    - For instance, checking for shared birthdays in a small class of 10 versus a company of 10,000 people."
   ]
  },
  {
   "cell_type": "markdown",
   "metadata": {},
   "source": [
    "## Algorithm:\n",
    "\n",
    "- Procedure (function) generating outputs, ideally correct outputs.\n",
    "- m -> 1"
   ]
  },
  {
   "cell_type": "markdown",
   "metadata": {},
   "source": [
    "### What is an Algorithm?\n",
    "\n",
    "- **Definition**: An algorithm is a step-by-step procedure or formula for solving a problem.\n",
    "- **Key Characteristics**:\n",
    "    - **Input**: Data provided to the algorithm.\n",
    "    - **Output**: Result produced by the algorithm.\n",
    "    - **Finiteness**: Must complete in a finite number of steps.\n",
    "    - **Effectiveness**: Each step must be precise and unambiguous.\n",
    "- **Real-world Examples**:\n",
    "    - Searching for a book in a library.\n",
    "    - Sorting a list of names alphabetically.\n",
    "    - Calculating the shortest route in a map.\n",
    "\n",
    "### Stages of Algorithm Building\n",
    "\n",
    "1. **Understand the Problem**:\n",
    "    - Analyze the requirements.\n",
    "    - Break down the problem into smaller sub-problems.\n",
    "    - Clarify inputs, outputs, and constraints.\n",
    "2. **Plan the Approach**:\n",
    "    - Decide on the **logic** or **method** to solve the problem (e.g., recursion, iteration, divide-and-conquer).\n",
    "    - Choose the appropriate **data structures** (e.g., lists, dictionaries, stacks, queues).\n",
    "3. **Write Pseudocode**:\n",
    "    - Draft a language-independent representation of your algorithm to ensure clarity before coding.\n",
    "4. **Implement in Python**:\n",
    "    - Translate pseudocode into Python code.\n",
    "    - Take advantage of Python's readable syntax and built-in functions.\n",
    "5. **Test and Optimize**:\n",
    "    - Test the algorithm with various inputs, including edge cases.\n",
    "    - Refactor code to improve readability and performance."
   ]
  },
  {
   "cell_type": "markdown",
   "metadata": {},
   "source": [
    "## Question:\n",
    "\n",
    "- Devise an algorithm that finds out if two people have the same birthday.\n",
    "- Do you know any famous algorithms?"
   ]
  },
  {
   "cell_type": "markdown",
   "metadata": {},
   "source": [
    "### Birthday Problem\n",
    "\n",
    "The **birthday problem** asks if any two people in a group share the same birthday.\n",
    "\n",
    "**Why is this interesting?**\n",
    "\n",
    "- If the group has 366 people, it’s obvious someone must share a birthday (pigeonhole principle).\n",
    "- But surprisingly, with just **23 people**, there’s a 50% chance of a shared birthday.\n",
    "\n",
    "Why does this happen?\n",
    "\n",
    "- As the group grows, the number of comparisons increases quadratically (pairs of birthdays). This makes the problem computationally challenging for large groups unless we design an efficient algorithm.\n"
   ]
  },
  {
   "cell_type": "markdown",
   "metadata": {},
   "source": [
    "### Designing the Birthday Problem Algorithm\n",
    "\n",
    "**Problem Restatement:**\n",
    "\n",
    "Given a list of birthdays, find if any two are the same.\n",
    "\n",
    "**Two Solutions:**\n",
    "\n",
    "1. **Naive Approach (Inefficient):**\n",
    "    - Compare every birthday with every other birthday.\n",
    "    - Time complexity: $O(n^2)$.\n",
    "    - A classroom setting where you ask each student their birthday and compare it manually with everyone else.\n",
    "    \n",
    "2. **Optimized Approach (Using Sets):**\n",
    "    - Use a set to track seen birthdays.\n",
    "    - For each birthday:\n",
    "        - If it’s already in the set, return `True`.\n",
    "        - Otherwise, add it to the set.\n",
    "    - Time complexity: $O(n)$.\n",
    "    - Instead of comparing everyone in the class, imagine writing down birthdays on sticky notes. If a birthday comes up twice, you instantly spot the duplicate."
   ]
  },
  {
   "cell_type": "code",
   "execution_count": 2,
   "metadata": {},
   "outputs": [],
   "source": [
    "def has_duplicate_birthdays(birthdays):\n",
    "    seen = set()\n",
    "    for birthday in birthdays:\n",
    "        if birthday in seen:\n",
    "            return True\n",
    "        seen.add(birthday)\n",
    "    return False"
   ]
  },
  {
   "cell_type": "markdown",
   "metadata": {},
   "source": [
    "\n",
    "Why is this efficient? Membership checks in a set are $O(1)$, so the overall time complexity is linear relative to the number of birthdays.\n"
   ]
  },
  {
   "cell_type": "code",
   "execution_count": 3,
   "metadata": {},
   "outputs": [
    {
     "name": "stdout",
     "output_type": "stream",
     "text": [
      "True\n",
      "CPU times: user 233 μs, sys: 54 μs, total: 287 μs\n",
      "Wall time: 284 μs\n"
     ]
    }
   ],
   "source": [
    "# random 20 birthdays in date format\n",
    "birthdays = [\"01-01\", \"02-14\", \"03-15\", \"01-01\", \"02-22\", \"08-07\", \"12-25\", \"01-01\", \"02-14\", \"03-15\", \"01-01\", \"02-22\", \"08-07\", \"12-25\", \"01-01\", \"02-14\", \"03-15\", \"01-01\", \"02-22\", \"08-07\"]\n",
    "\n",
    "%time print(has_duplicate_birthdays(birthdays))"
   ]
  },
  {
   "cell_type": "markdown",
   "metadata": {},
   "source": [
    "## **Efficiency and Complexity**\n",
    "\n",
    "**How do we measure efficiency?**\n",
    "\n",
    "- Instead of time in seconds, we count the **number of fundamental operations** the algorithm performs as the input size $(n)$ grows. This is called **asymptotic analysis**.\n",
    "\n",
    "- *\"How quickly the runtime grows relative to the input data to be processed by that algorithm.\"*\n",
    "\n",
    "- Abstract sense, not seconds or hours\n",
    "- Does not even need to be connected to the implementation - certain tasks has certain efficiency\n",
    "- Exact performance depends on size of the input space (birthday problem for 10 or 1000 people in class)\n",
    "- The most efficient $O(1)$ access of item in dictionary\n",
    "- The least efficient $O(n!)$\n",
    "  - Traveling Salesman Problem (**TSP**): The TSP involves finding the shortest possible route that visits a set of cities and returns to the origin city. A brute force approach, which tries every possible permutation to find the shortest tour, has a time complexity of $O(n!)$."
   ]
  },
  {
   "cell_type": "markdown",
   "metadata": {},
   "source": [
    "**Big-O Complexity: Intuitive Examples**\n",
    "\n",
    "1. **Constant Time ($O(1)$):**\n",
    "    - Retrieving an item from a dictionary.\n",
    "    - **Analogy:** Finding a book by its exact shelf number in a library.\n",
    "2. **Linear Time ($O(n)$):**\n",
    "    - Iterating through a list of $n$ items.\n",
    "    - **Analogy:** Flipping through the pages of a book.\n",
    "3. **Quadratic Time ($O(n^2)$):**\n",
    "    - Comparing every item in a list with every other item.\n",
    "    - **Analogy:** Comparing all pairs of students in a classroom.\n",
    "4. **Factorial Time ($O(n!)$):**\n",
    "    - Checking all possible orders of $n$ items.  \n",
    "    - **Analogy:** Arranging 10 books on a shelf in every possible order.\n"
   ]
  },
  {
   "cell_type": "markdown",
   "metadata": {},
   "source": [
    "<img src=\"big_o_time.png\" width=600px />"
   ]
  },
  {
   "cell_type": "markdown",
   "metadata": {},
   "source": [
    "### Traveling Salesman Problem (TSP)\n",
    "\n",
    "The **Traveling Salesman Problem** (TSP) is a famous optimization problem:\n",
    "\n",
    "- **Statement:** A salesman needs to visit $n$ cities and return to the starting city, minimizing the total distance traveled.    \n",
    "\n",
    "*\"Given a list of cities and the distances between each pair of cities, what is the shortest possible route that visits each city exactly once and returns to the origin city?\"*"
   ]
  },
  {
   "cell_type": "markdown",
   "metadata": {},
   "source": [
    "**Why is TSP hard?**\n",
    "\n",
    "- For $n=4$, there are $3! =6$ possible routes.\n",
    "    \n",
    "- For $n=10$, there are $9 ! =362,880$ routes.\n",
    "    \n",
    "- For $n=20$, there are $19! =1.2×1018$ routes—this is infeasible to compute by brute force.\n",
    "    "
   ]
  },
  {
   "cell_type": "markdown",
   "metadata": {},
   "source": [
    "**Key Intuition:**\n",
    "\n",
    "- TSP is computationally expensive because the number of possibilities grows **factorially**.\n",
    "- **Why do we care?** TSP models real-world logistics, such as optimizing delivery routes or supply chain management.\n",
    "\n",
    "**Efficient Solutions:**\n",
    "\n",
    "- Exact algorithms like **dynamic programming** can solve TSP for small $n$.\n",
    "\n",
    "- Heuristics (e.g., **nearest neighbor**) approximate solutions for larger $n$, often with good results.\n"
   ]
  },
  {
   "cell_type": "markdown",
   "metadata": {},
   "source": [
    "## For Us: Breaking Down Complex Problems\n",
    "\n",
    "**Why is breaking down problems important?**\n",
    "\n",
    "**Divide and Conquer:**\n",
    "\n",
    "- Break large problems into smaller sub-problems. For example:\n",
    "    - Instead of analyzing a large dataset all at once, split it into chunks, process each independently, and combine results.\n",
    "\n",
    "- **Intuition:** Solving a big problem is like eating an elephant—it’s only possible one bite at a time. By breaking the problem into smaller sub-problems, we make it manageable.\n",
    "\n",
    "**Practical Tips for Algorithmic Problem Solving:**\n",
    "\n",
    "1. **Start Small:** Solve the problem for a minimal input size first (e.g., 2 people).\n",
    "2. **Generalize:** Identify patterns that work for larger inputs.\n",
    "3. **Test Edge Cases:** Handle unexpected inputs, like empty lists or extreme values.\n",
    "\n",
    "**Efficient Data Structures:**\n",
    "\n",
    "The choice of data structure impacts efficiency:\n",
    "   - Lists: Simple but inefficient for lookups ($O(n)$).\n",
    "   - Sets/Dictionaries: Excellent for membership testing ($O(1)$).\n",
    "   - Pandas DataFrames: Built-in optimizations for data manipulation. "
   ]
  },
  {
   "cell_type": "markdown",
   "metadata": {},
   "source": [
    "### We use Built-In Libraries:\n",
    "\n",
    "Python provides robust libraries, such as `pandas` and `numpy`, which already implement efficient algorithms. Use them whenever possible to avoid reinventing the wheel.\n",
    "\n",
    "Practical Implementation:\n",
    "In pandas, we can use the `.duplicated(`) method to find duplicates in a dataset:"
   ]
  },
  {
   "cell_type": "code",
   "execution_count": 4,
   "metadata": {},
   "outputs": [
    {
     "name": "stdout",
     "output_type": "stream",
     "text": [
      "True\n",
      "CPU times: user 630 μs, sys: 106 μs, total: 736 μs\n",
      "Wall time: 717 μs\n"
     ]
    }
   ],
   "source": [
    "# birthday data with duplicates in pandas\n",
    "data = pd.DataFrame({'Birthdays': [\"01-01\", \"02-14\", \"03-15\", \"01-01\"]})\n",
    "# duplicates_exist = data['Birthdays'].duplicated().any()\n",
    "\n",
    "%time print(data['Birthdays'].duplicated().any())  # Output: True"
   ]
  },
  {
   "cell_type": "markdown",
   "metadata": {},
   "source": [
    "### Key Takeaways\n",
    "\n",
    "1. **Algorithmic Thinking:**\n",
    "    \n",
    "    Approach problems systematically. Break them into steps, use the right data structures, and analyze efficiency.\n",
    "    \n",
    "2. **Efficiency Awareness:**\n",
    "    \n",
    "    Evaluate algorithms based on complexity ($O(n)$, $O(n^2)$, etc.), not just speed on a specific computer.\n",
    "    \n",
    "3. **Practical Relevance:**\n",
    "    \n",
    "    Problems like TSP and the birthday problem show how theory translates into real-world applications."
   ]
  },
  {
   "cell_type": "markdown",
   "metadata": {},
   "source": [
    "## Example: Bubble Sort\n",
    "\n",
    "### Concept\n",
    "\n",
    "Bubble Sort is a simple sorting algorithm. It repeatedly steps through the list, \n",
    "compares each pair of adjacent items, and swaps them if they are in the wrong order. \n",
    "The process is repeated until no more swaps are needed, indicating that the list is sorted.\n",
    "\n",
    "### Process\n",
    "\n",
    "1. **Start at the beginning** of the list.\n",
    "2. **Compare the first two elements**. If the first is greater than the second, swap them.\n",
    "3. **Move to the next pair** of elements, repeat the comparison and swap if necessary.\n",
    "4. Continue this process for each pair of adjacent elements until the end of the list.\n",
    "5. After each pass, the largest unsorted element is correctly placed at the end.\n",
    "6. **Repeat** these steps for the remaining list (excluding the last sorted elements).\n",
    "7. The sorting is complete when a pass requires no swaps.\n",
    "\n",
    "### Characteristics\n",
    "\n",
    "- **Time Complexity**:\n",
    "  - **Best Case**: $O(n)$ when the list is already sorted.\n",
    "  - **Worst Case**: $O(n^2)$ when the list is sorted in reverse order.\n",
    "- **Space Complexity**: $O(1)$, as it only requires a small, constant amount of additional space.\n",
    "- **Stability**: Bubble Sort is stable, meaning it preserves the order of equal elements.\n",
    "- **Adaptability**: It can adapt to a situation where the list is already sorted, making it efficient in such cases.\n"
   ]
  },
  {
   "cell_type": "markdown",
   "metadata": {},
   "source": [
    "<img src=\"https://cdn.emre.me/sorting/bubble_sort.gif\" />"
   ]
  },
  {
   "cell_type": "code",
   "execution_count": null,
   "metadata": {},
   "outputs": [],
   "source": []
  },
  {
   "cell_type": "markdown",
   "metadata": {},
   "source": [
    "## Warm up task\n",
    "\n",
    "- Find a maximum value in a list\n",
    "- What steps would you take?"
   ]
  },
  {
   "cell_type": "code",
   "execution_count": 5,
   "metadata": {},
   "outputs": [
    {
     "name": "stdout",
     "output_type": "stream",
     "text": [
      "Maximum number in the array is: 8\n"
     ]
    }
   ],
   "source": [
    "def find_maximum(arr):\n",
    "    mx = arr[0] # initialize mx to the first element in the array\n",
    "    for i in range(len(arr)):\n",
    "        if mx < arr[i]: # compare mx with the current element\n",
    "            mx = arr[i] # update mx if the current element is greater\n",
    "    return mx\n",
    "\n",
    "# Example usage\n",
    "arr = [3, 6, 2, 8, 4]\n",
    "print(f\"Maximum number in the array is: {find_maximum(arr)}\")"
   ]
  },
  {
   "cell_type": "code",
   "execution_count": 6,
   "metadata": {},
   "outputs": [],
   "source": [
    "# Give an array of arbitrary length, find on what position lies a value\n",
    "# Assume array is of integers\n",
    "# if value is not found, return None"
   ]
  },
  {
   "cell_type": "code",
   "execution_count": 7,
   "metadata": {},
   "outputs": [
    {
     "name": "stdout",
     "output_type": "stream",
     "text": [
      "Element found at index: 1\n"
     ]
    }
   ],
   "source": [
    "def linear_search(arr, x):\n",
    "    # Iterate over each element in the array\n",
    "    for i in range(len(arr)):\n",
    "        # If element is found, return the index\n",
    "        if arr[i] == x:\n",
    "            return i\n",
    "        # If element is not found, return None\n",
    "    return -1\n",
    "\n",
    "# Example usage\n",
    "arr = [3, 4, 1, 7, 9]\n",
    "x = 4\n",
    "print(f\"Element found at index: {linear_search(arr, x)}\")"
   ]
  },
  {
   "cell_type": "markdown",
   "metadata": {},
   "source": [
    "## Linear Search:\n",
    "\n",
    "Linear search is the simplest form of search:\n",
    "\n",
    "- You start at the first element of a list and check each item sequentially until you either find what you’re looking for or reach the end of the list.\n",
    "\n",
    "*Imagine searching for your friend in a crowd. If you don’t know where they are, you might start at one end of the crowd and look at each face one by one until you find them.*"
   ]
  },
  {
   "cell_type": "markdown",
   "metadata": {},
   "source": [
    "### Time Complexity of Linear Search\n",
    "\n",
    "**Definition of Time Complexity:**\n",
    "\n",
    "Time complexity measures the number of operations an algorithm performs as a function of input size $n$. For linear search:\n",
    "\n",
    "- In the **worst case**, you have to look at every element once, so the complexity is $O(n)$.\n",
    "- In the **average case**, assuming the element is equally likely to be anywhere in the list, you’ll check $n/2$ elements on average. However, asymptotically, this still simplifies to $O(n)$.\n",
    "\n",
    "**Why Linear Search Can Be Inefficient:**\n",
    "\n",
    "As $n$ grows, the number of comparisons increases linearly. For small lists, this might not matter, but for large datasets—millions or billions of elements—linear search becomes impractical."
   ]
  },
  {
   "cell_type": "markdown",
   "metadata": {},
   "source": [
    "### Performance Characteristics\n",
    "\n",
    "**Key Limitations:**\n",
    "\n",
    "Linear search doesn’t leverage any information about the structure of the data. Whether the data is sorted or unsorted, it treats all cases the same, performing a brute-force search.\n",
    "\n",
    "**When Is Linear Search Suitable?**\n",
    "\n",
    "- For small datasets, the simplicity of linear search makes it acceptable.\n",
    "- When the data is unsorted, linear search is often the only option unless you preprocess the data (e.g., sorting it for binary search)."
   ]
  },
  {
   "cell_type": "markdown",
   "metadata": {},
   "source": [
    "### Question:\n",
    "\n",
    "- What is the complexity of searching in `m x n` matrix?\n",
    "\n",
    "### Can we devise a better algorithm?"
   ]
  },
  {
   "cell_type": "markdown",
   "metadata": {},
   "source": []
  },
  {
   "cell_type": "markdown",
   "metadata": {},
   "source": [
    "## Binary Search\n",
    "\n",
    "Binary search is a fundamental algorithm that efficiently finds an element in a sorted list by repeatedly dividing the search space in half."
   ]
  },
  {
   "cell_type": "code",
   "execution_count": 8,
   "metadata": {},
   "outputs": [
    {
     "name": "stdout",
     "output_type": "stream",
     "text": [
      "Element found at index: 0\n"
     ]
    }
   ],
   "source": [
    "def binary_search(arr, x):\n",
    "    low = 0  # Starting index\n",
    "    high = len(arr) - 1  # Ending index\n",
    "\n",
    "    # Repeat until the two indices meet\n",
    "    while low <= high:\n",
    "        mid = (low + high) // 2  # Find the middle element\n",
    "\n",
    "        # If the middle element is less than x, ignore the left half\n",
    "        if arr[mid] < x:\n",
    "            low = mid + 1\n",
    "        # If the middle element is greater than x, ignore the right half\n",
    "        elif arr[mid] > x:\n",
    "            high = mid - 1\n",
    "        else:\n",
    "            return mid  # Element is found, return its index\n",
    "    return -1  # Element is not present in array\n",
    "\n",
    "# Example usage\n",
    "arr = [1, 3, 5, 7, 9]\n",
    "x = 1\n",
    "print(f\"Element found at index: {binary_search(arr, x)}\")"
   ]
  },
  {
   "cell_type": "markdown",
   "metadata": {},
   "source": [
    "### How Binary Search Works\n",
    "\n",
    "Imagine you have a dictionary, and you’re looking for the word “Python.” You don’t start from page 1 and flip through each page sequentially (linear search). Instead, you:\n",
    "\n",
    "1. Open the dictionary roughly in the middle.\n",
    "2. Compare the current page’s word with “Python.”\n",
    "    - If it comes **after**, you know “Python” must be in the latter half.\n",
    "    - If it comes **before**, you know it’s in the earlier half.\n",
    "3. Repeat this process, halving the search space each time, until you find the word.\n",
    "\n",
    "**Key Insight:**\n",
    "\n",
    "Each step eliminates **half of the remaining possibilities**, drastically reducing the number of comparisons.\n",
    "\n",
    "This intuitive approach highlights the precondition for binary search: **the data must be sorted**. Without this, the halving strategy wouldn’t work."
   ]
  },
  {
   "cell_type": "markdown",
   "metadata": {},
   "source": [
    "### Time Complexity: Why is Binary Search $O(\\log(n))$?\n",
    "\n",
    "**$O(\\log(⁡n))$,** assuming the data is sorted.\n",
    "\n",
    "1. Start with $n$ elements.\n",
    "2. After one comparison, half the elements are eliminated: $n \\to n/2$.\n",
    "3. After the second comparison: $n/2 \\to n/4$.\n",
    "4. This continues until only one element remains.\n",
    "\n",
    "Mathematically, the number of steps required is the number of times nn can be halved until it becomes 1:\n",
    "$$ log_2(n) $$\n",
    "\n",
    "This logarithmic relationship makes binary search exceptionally fast for large datasets. For example:\n",
    "\n",
    "- For $n=1,000,000$, binary search requires at most $\\log_2(1,000,000)≈20$ steps."
   ]
  },
  {
   "cell_type": "markdown",
   "metadata": {},
   "source": [
    "### Performance Characteristics\n",
    "\n",
    "1. **Worst-Case Scenario:**\n",
    "   - The element is at the far end of the search space, requiring $\\log_2(n)$ comparisons.\n",
    "   - Even in the worst case, the performance is exponentially better than linear search.\n",
    "\n",
    "2. **Average-Case Scenario:**\n",
    "    - On average, $\\log_2(n)$ comparisons are made because the search space is halved at each step.\n",
    "        \n",
    "3. **Best-Case Scenario:**\n",
    "    - The element is found in the first comparison: $O(1)$.\n",
    "\n",
    "**Why is Binary Search So Efficient?**\n",
    "\n",
    "Binary search minimizes the number of comparisons needed to locate an element. Even for massive datasets, the logarithmic growth ensures a small number of steps compared to the linear growth of comparisons in linear search."
   ]
  },
  {
   "cell_type": "code",
   "execution_count": null,
   "metadata": {},
   "outputs": [],
   "source": []
  },
  {
   "cell_type": "markdown",
   "metadata": {},
   "source": [
    "### **Efficiency Compared to Linear Search**\n",
    "\n",
    "Let’s break down the efficiency comparison in more detail:\n",
    "\n",
    "| **Aspect** | **Linear Search** | **Binary Search** |\n",
    "| --- | --- | --- |\n",
    "| **Time Complexity** | $O(n)$ | $O(\\log(⁡n))$ |\n",
    "| **Precondition** | Works on unsorted data | Requires sorted data |\n",
    "| **Performance on Small Data** | Good enough | Comparable, but requires sorting overhead |\n",
    "| **Performance on Large Data** | Slows down linearly as nn grows | Exponentially better as nn grows |\n",
    "\n",
    "**Key Observations:**\n",
    "\n",
    "1. **Dataset Size Dependency:**\n",
    "    - For $n=10,000$, linear search requires up to 10,000 comparisons, whereas binary search requires only about 14.\n",
    "2. **Precondition:**\n",
    "    - The requirement for sorted data is both a strength and a limitation. Sorting introduces overhead but enables much faster searches afterward.\n",
    "3. **Practical Implications:**\n",
    "    - For small datasets, linear search might suffice because the difference in speed is negligible. However, for large datasets, binary search becomes essential."
   ]
  },
  {
   "cell_type": "markdown",
   "metadata": {},
   "source": [
    "### **Real-World Implications**\n",
    "\n",
    "Binary search isn’t just theoretical; it’s widely used in real-world applications:\n",
    "\n",
    "- **Databases:** Efficient lookups in sorted tables.\n",
    "- **Search Engines:** Retrieving sorted documents quickly.\n",
    "- **Data Processing in Python:** Functions like `bisect` in Python’s standard library use binary search to find insertion points or locate elements in sorted lists.\n",
    "\n",
    "**Example with Python’s `bisect`:**"
   ]
  },
  {
   "cell_type": "code",
   "execution_count": 9,
   "metadata": {},
   "outputs": [
    {
     "name": "stdout",
     "output_type": "stream",
     "text": [
      "3\n"
     ]
    }
   ],
   "source": [
    "import bisect\n",
    "\n",
    "data = [1, 3, 5, 7, 9, 11]\n",
    "target = 7\n",
    "index = bisect.bisect_left(data, target)\n",
    "print(index)  # Output: 3 (index of 7)\n"
   ]
  },
  {
   "cell_type": "markdown",
   "metadata": {},
   "source": [
    "### **Intuitive Wrap-Up**\n",
    "\n",
    "1. Binary search is like cutting a big problem in half repeatedly until you isolate the solution.\n",
    "    - **Analogy:** Searching for a word in a dictionary or a number in a sorted phone book.\n",
    "2. Its logarithmic complexity ensures scalability for massive datasets, making it a cornerstone of algorithmic problem-solving.\n",
    "3. By understanding its limitations (requires sorted data) and strengths (exponential speedup), you can choose the right search method for any dataset."
   ]
  },
  {
   "cell_type": "code",
   "execution_count": null,
   "metadata": {},
   "outputs": [],
   "source": []
  },
  {
   "cell_type": "markdown",
   "metadata": {},
   "source": [
    "## Can We Devise a Better Algorithm?\n",
    "\n",
    "The short answer is **yes**, if we can leverage information about the structure of the data.\n",
    "\n",
    "### Key Insights for Better Algorithms:\n",
    "\n",
    "1. **Sorted Data:** Algorithms like binary search or staircase search exploit sorted structures to reduce the number of comparisons.\n",
    "2. **Hashing:** For searching large datasets, creating a hash table allows for $O(1)$ lookups at the cost of preprocessing time and memory.\n",
    "3. **Special Cases in Matrices:**\n",
    "    - For fully sorted matrices, staircase search is an optimal choice.\n",
    "    - For unsorted matrices, preprocessing (e.g., flattening and sorting the matrix) enables faster searching later."
   ]
  },
  {
   "cell_type": "markdown",
   "metadata": {},
   "source": []
  },
  {
   "cell_type": "markdown",
   "metadata": {},
   "source": [
    "## Question: Searching in an $m×n$ Matrix\n",
    "\n",
    "The complexity of searching in an $m×n$ matrix depends on how the data is stored and structured.\n",
    "\n",
    "### **Case 1: Matrix as a Flat List (Unsorted)**\n",
    "\n",
    "If the matrix is treated as a large, flat list (or if each row is a separate list), and there’s no sorting:\n",
    "\n",
    "- You perform a **linear search** across $m×n$ elements.\n",
    "- **Time Complexity:** $O(m×n)$."
   ]
  },
  {
   "cell_type": "markdown",
   "metadata": {},
   "source": [
    "### **Case 2: Sorted Matrix**\n",
    "\n",
    "Suppose the matrix is sorted:\n",
    "\n",
    "1. **Row-Wise Sorted Only:**\n",
    "    - Searching within each row using linear search still gives $O(m×n)$.\n",
    "    - If we apply binary search to each row, the complexity becomes $O(m⋅log(n))$ (binary search on ncolumns for m rows).\n",
    "        \n",
    "2. **Fully Sorted Matrix:**\n",
    "    - Example: A matrix where both rows and columns are sorted.\n",
    "    - **Better Algorithm:** You can use a **staircase search** to achieve $O(m+n)$ complexity:\n",
    "        - Start from the top-right corner of the matrix.\n",
    "        - If the current element is larger than the target, move left.\n",
    "        - If it’s smaller, move down."
   ]
  },
  {
   "cell_type": "markdown",
   "metadata": {},
   "source": [
    "**Python Code for Staircase Search:**"
   ]
  },
  {
   "cell_type": "code",
   "execution_count": 10,
   "metadata": {},
   "outputs": [],
   "source": [
    "def staircase_search(matrix, target):\n",
    "    \"\"\"\n",
    "    Perform a staircase search in a 2D matrix to find the target value.\n",
    "    The matrix must be sorted in ascending order both row-wise and column-wise.\n",
    "    The search starts from the top-right corner of the matrix and moves left or down\n",
    "    depending on the comparison with the target value.\n",
    "    Args:\n",
    "        matrix (list of list of int): 2D list where each sublist represents a row of the matrix.\n",
    "        target (int): The value to search for in the matrix.\n",
    "    Returns:\n",
    "        tuple: A tuple (row, col) representing the position of the target in the matrix.\n",
    "               Returns (-1, -1) if the target is not found.\n",
    "    \"\"\"\n",
    "    \n",
    "    rows = len(matrix)\n",
    "    cols = len(matrix[0])\n",
    "    row, col = 0, cols - 1  # Start at top-right corner\n",
    "\n",
    "    while row < rows and col >= 0:\n",
    "        if matrix[row][col] == target:\n",
    "            return row, col  # Found\n",
    "        elif matrix[row][col] > target:\n",
    "            col -= 1  # Move left\n",
    "        else:\n",
    "            row += 1  # Move down\n",
    "    return -1, -1  # Not found"
   ]
  },
  {
   "cell_type": "code",
   "execution_count": 11,
   "metadata": {},
   "outputs": [
    {
     "data": {
      "text/plain": [
       "array([[ 1,  3,  5],\n",
       "       [ 7,  9, 11],\n",
       "       [13, 15, 17]])"
      ]
     },
     "execution_count": 11,
     "metadata": {},
     "output_type": "execute_result"
    }
   ],
   "source": [
    "# Create a sorted 2D matrix\n",
    "matrix = [[1, 3, 5], [7, 9, 11], [13, 15, 17]]\n",
    "matrix = np.array(matrix)\n",
    "matrix"
   ]
  },
  {
   "cell_type": "markdown",
   "metadata": {},
   "source": [
    "**Intuitive Wrap-Up**\n",
    "\n",
    "Let’s summarize with an analogy:\n",
    "\n",
    "- Linear search is like flipping through the pages of a book one by one to find a specific word. It’s straightforward but slow.\n",
    "- Optimized algorithms like binary search or staircase search are like using the table of contents or index to jump directly to the relevant section, saving significant time.\n",
    "\n",
    "This leads to a key takeaway: algorithmic thinking enables us to choose the right tool for the job, adapting our approach based on the structure and size of the data."
   ]
  },
  {
   "cell_type": "code",
   "execution_count": null,
   "metadata": {},
   "outputs": [],
   "source": []
  },
  {
   "cell_type": "markdown",
   "metadata": {},
   "source": [
    "## Further examples"
   ]
  },
  {
   "cell_type": "markdown",
   "metadata": {},
   "source": [
    "### Find sum of all subarrays of size $k$ in an array"
   ]
  },
  {
   "cell_type": "code",
   "execution_count": 12,
   "metadata": {},
   "outputs": [
    {
     "data": {
      "text/plain": [
       "[13, 20, 24, 28]"
      ]
     },
     "execution_count": 12,
     "metadata": {},
     "output_type": "execute_result"
    }
   ],
   "source": [
    "def double_iteration(arr:list[int], k:int)->list[int]:\n",
    "    results = []\n",
    "    for start in range(len(arr)-k+1):\n",
    "        window_sum = 0\n",
    "        for i in range(start, start+k):\n",
    "            window_sum += arr[i]\n",
    "        # append the sum of the window to the results list\n",
    "        results.append(window_sum)\n",
    "    \n",
    "    return results\n",
    "arr = [1,5,7,8,9,11]\n",
    "double_iteration(arr, 3) #O(n*k)"
   ]
  },
  {
   "cell_type": "code",
   "execution_count": 13,
   "metadata": {},
   "outputs": [
    {
     "data": {
      "text/plain": [
       "[13, 20, 24, 28]"
      ]
     },
     "execution_count": 13,
     "metadata": {},
     "output_type": "execute_result"
    }
   ],
   "source": [
    "def fixed_sliding_window(arr:list[int], k:int)->list[int]:\n",
    "    # Sum up the first subarray and add to the result\n",
    "    curr_subarray = sum(arr[:k])\n",
    "    results = [curr_subarray]\n",
    "    # Now iterate from the first item until length-k+1 (note the -k +1)\n",
    "    for idx in range(1, len(arr)-k+1):\n",
    "        curr_subarray = curr_subarray - arr[idx-1]\n",
    "        curr_subarray = curr_subarray + arr[idx+k-1]\n",
    "        results.append(curr_subarray)\n",
    "    return results\n",
    "\n",
    "arr = [1,5,7,8,9,11] \n",
    "fixed_sliding_window(arr, 3)#O(n)"
   ]
  },
  {
   "cell_type": "code",
   "execution_count": 14,
   "metadata": {},
   "outputs": [],
   "source": [
    "#lets compare the algorithms\n",
    "import random\n",
    "\n",
    "arr = [random.randint(0, 10000) for _ in range(1000)]\n",
    "k = 120"
   ]
  },
  {
   "cell_type": "code",
   "execution_count": 15,
   "metadata": {},
   "outputs": [
    {
     "name": "stdout",
     "output_type": "stream",
     "text": [
      "4.19 ms ± 398 μs per loop (mean ± std. dev. of 10 runs, 10 loops each)\n"
     ]
    }
   ],
   "source": [
    "%timeit -r 10 -n 10 double_iteration(arr, k)"
   ]
  },
  {
   "cell_type": "code",
   "execution_count": 16,
   "metadata": {},
   "outputs": [
    {
     "name": "stdout",
     "output_type": "stream",
     "text": [
      "117 μs ± 16.1 μs per loop (mean ± std. dev. of 10 runs, 10 loops each)\n"
     ]
    }
   ],
   "source": [
    "%timeit -r 10 -n 10 fixed_sliding_window(arr, k)"
   ]
  },
  {
   "cell_type": "code",
   "execution_count": 17,
   "metadata": {},
   "outputs": [],
   "source": [
    "## imagine sliding windows with more complicated functions (mean, median) \n",
    "# create a structure which adds -> removes elements from the end and start of the window\n",
    "# idea is to always keep one pass through the data "
   ]
  },
  {
   "cell_type": "markdown",
   "metadata": {},
   "source": [
    "## Lets get back to data processing level a bit\n",
    "\n",
    "### Lets try to make a small project of putting together a dataset of Tarantino movies from wikipedia\n",
    "\n",
    "- algorithmically"
   ]
  },
  {
   "cell_type": "code",
   "execution_count": 18,
   "metadata": {},
   "outputs": [],
   "source": [
    "# https://en.wikipedia.org/wiki/Quentin_Tarantino_filmography"
   ]
  },
  {
   "cell_type": "code",
   "execution_count": 19,
   "metadata": {},
   "outputs": [],
   "source": [
    "# Lets prepare step by step what we will do \n",
    "\n",
    "# 1 link to the wikipedia page\n",
    "\n",
    "# 2 get request to the page\n",
    "\n",
    "# 3 data to soup = parse the html\n",
    "\n",
    "# 4 find the table with the filmography"
   ]
  },
  {
   "cell_type": "code",
   "execution_count": 20,
   "metadata": {},
   "outputs": [],
   "source": [
    "import requests\n",
    "from bs4 import BeautifulSoup\n",
    "root_url = \"https://en.wikipedia.org\""
   ]
  },
  {
   "cell_type": "code",
   "execution_count": 21,
   "metadata": {},
   "outputs": [],
   "source": [
    "def get_soup_for_link(lnk):\n",
    "    r = requests.get(lnk)\n",
    "    return BeautifulSoup(r.text,'html')\n",
    "\n",
    "soup = get_soup_for_link(f\"{root_url}/wiki/Quentin_Tarantino#Filmography\")"
   ]
  },
  {
   "cell_type": "code",
   "execution_count": 22,
   "metadata": {},
   "outputs": [
    {
     "data": {
      "text/plain": [
       "[['/wiki/Reservoir_Dogs', 'Reservoir Dogs'],\n",
       " ['/wiki/Miramax', 'Miramax'],\n",
       " ['/wiki/Pulp_Fiction', 'Pulp Fiction'],\n",
       " ['/wiki/Jackie_Brown', 'Jackie Brown'],\n",
       " ['/wiki/Kill_Bill:_Volume_1', 'Kill Bill: Volume 1'],\n",
       " ['/wiki/Kill_Bill:_Volume_2', 'Kill Bill: Volume 2'],\n",
       " ['/wiki/Death_Proof', 'Death Proof'],\n",
       " ['/wiki/Dimension_Films', 'Dimension Films'],\n",
       " ['/wiki/Inglourious_Basterds', 'Inglourious Basterds'],\n",
       " ['/wiki/The_Weinstein_Company', 'The Weinstein Company'],\n",
       " ['/wiki/Universal_Pictures', 'Universal Pictures'],\n",
       " ['/wiki/Django_Unchained', 'Django Unchained'],\n",
       " ['/wiki/Sony_Pictures_Releasing', 'Sony Pictures Releasing'],\n",
       " ['/wiki/The_Hateful_Eight', 'The Hateful Eight'],\n",
       " ['/wiki/Once_Upon_a_Time_in_Hollywood', 'Once Upon a Time in Hollywood']]"
      ]
     },
     "execution_count": 22,
     "metadata": {},
     "output_type": "execute_result"
    }
   ],
   "source": [
    "# Find table element\n",
    "table = soup.findAll('caption')[0].parent\n",
    "lnks = []\n",
    "for item in table.findAll('a'):\n",
    "   lnks.append([item['href'], item['title']])\n",
    "\n",
    "lnks"
   ]
  },
  {
   "cell_type": "code",
   "execution_count": 23,
   "metadata": {},
   "outputs": [
    {
     "name": "stdout",
     "output_type": "stream",
     "text": [
      "error getting https://en.wikipedia.org//wiki/Miramax\n",
      "error getting https://en.wikipedia.org//wiki/Dimension_Films\n",
      "error getting https://en.wikipedia.org//wiki/The_Weinstein_Company\n",
      "error getting https://en.wikipedia.org//wiki/Universal_Pictures\n",
      "error getting https://en.wikipedia.org//wiki/Sony_Pictures_Releasing\n"
     ]
    }
   ],
   "source": [
    "def get_movie_df(link):\n",
    "    movie_soup = get_soup_for_link(link)\n",
    "    # Find the infobox table, if it exists\n",
    "    try:\n",
    "        movie_table = movie_soup.findAll('table',{'class':'infobox vevent'})[0]\n",
    "    except IndexError:\n",
    "        print(f\"error getting {link}\")\n",
    "        return pd.DataFrame()\n",
    "    # Extract data from the table\n",
    "    data = {}\n",
    "    for row in movie_table.find_all('tr'):\n",
    "        if row.th and row.td:\n",
    "            key = row.th.text.strip()\n",
    "            value = row.td.text.strip()\n",
    "            data[key] = value\n",
    "    \n",
    "    # Convert dictionary to Pandas DataFrame\n",
    "    df = pd.DataFrame(list(data.items()), columns=['Attribute', 'Value'])\n",
    "    df.set_index('Attribute',inplace=True)\n",
    "    return df\n",
    "\n",
    "\n",
    "movie_dfs = []\n",
    "for movei_link, movie in lnks:\n",
    "    mov_df = get_movie_df(f\"{root_url}/{movei_link}\")\n",
    "    if not mov_df.empty:\n",
    "        mov_df.loc['title']=movie\n",
    "        movie_dfs.append(mov_df)"
   ]
  },
  {
   "cell_type": "code",
   "execution_count": 24,
   "metadata": {},
   "outputs": [
    {
     "data": {
      "text/html": [
       "<div>\n",
       "<style scoped>\n",
       "    .dataframe tbody tr th:only-of-type {\n",
       "        vertical-align: middle;\n",
       "    }\n",
       "\n",
       "    .dataframe tbody tr th {\n",
       "        vertical-align: top;\n",
       "    }\n",
       "\n",
       "    .dataframe thead th {\n",
       "        text-align: right;\n",
       "    }\n",
       "</style>\n",
       "<table border=\"1\" class=\"dataframe\">\n",
       "  <thead>\n",
       "    <tr style=\"text-align: right;\">\n",
       "      <th>Attribute</th>\n",
       "      <th>Directed by</th>\n",
       "      <th>Written by</th>\n",
       "      <th>Produced by</th>\n",
       "      <th>Starring</th>\n",
       "      <th>Cinematography</th>\n",
       "      <th>Edited by</th>\n",
       "      <th>Productioncompanies</th>\n",
       "      <th>Distributed by</th>\n",
       "      <th>Release dates</th>\n",
       "      <th>Running time</th>\n",
       "      <th>...</th>\n",
       "      <th>Box office</th>\n",
       "      <th>title</th>\n",
       "      <th>Story by</th>\n",
       "      <th>Screenplay by</th>\n",
       "      <th>Based on</th>\n",
       "      <th>Productioncompany</th>\n",
       "      <th>Music by</th>\n",
       "      <th>Release date</th>\n",
       "      <th>Languages</th>\n",
       "      <th>Countries</th>\n",
       "    </tr>\n",
       "  </thead>\n",
       "  <tbody>\n",
       "    <tr>\n",
       "      <th>Value</th>\n",
       "      <td>Quentin Tarantino</td>\n",
       "      <td>Quentin Tarantino</td>\n",
       "      <td>Lawrence Bender</td>\n",
       "      <td>Harvey Keitel\\nTim Roth\\nChris Penn\\nSteve Bus...</td>\n",
       "      <td>Andrzej Sekuła</td>\n",
       "      <td>Sally Menke</td>\n",
       "      <td>Live America Inc.\\nDog Eat Dog Productions</td>\n",
       "      <td>Miramax Films</td>\n",
       "      <td>January 21, 1992 (1992-01-21) (Sundance)\\nOcto...</td>\n",
       "      <td>99 minutes[1]</td>\n",
       "      <td>...</td>\n",
       "      <td>$2.9 million[1]</td>\n",
       "      <td>Reservoir Dogs</td>\n",
       "      <td>NaN</td>\n",
       "      <td>NaN</td>\n",
       "      <td>NaN</td>\n",
       "      <td>NaN</td>\n",
       "      <td>NaN</td>\n",
       "      <td>NaN</td>\n",
       "      <td>NaN</td>\n",
       "      <td>NaN</td>\n",
       "    </tr>\n",
       "    <tr>\n",
       "      <th>Value</th>\n",
       "      <td>Quentin Tarantino</td>\n",
       "      <td>Quentin Tarantino</td>\n",
       "      <td>Lawrence Bender</td>\n",
       "      <td>John Travolta\\nSamuel L. Jackson\\nUma Thurman\\...</td>\n",
       "      <td>Andrzej Sekuła</td>\n",
       "      <td>Sally Menke</td>\n",
       "      <td>A Band Apart\\nJersey Films</td>\n",
       "      <td>Miramax Films</td>\n",
       "      <td>May 21, 1994 (1994-05-21) (Cannes)\\nOctober 14...</td>\n",
       "      <td>154 minutes[1]</td>\n",
       "      <td>...</td>\n",
       "      <td>$213.9 million[2]</td>\n",
       "      <td>Pulp Fiction</td>\n",
       "      <td>Quentin Tarantino\\nRoger Avary</td>\n",
       "      <td>NaN</td>\n",
       "      <td>NaN</td>\n",
       "      <td>NaN</td>\n",
       "      <td>NaN</td>\n",
       "      <td>NaN</td>\n",
       "      <td>NaN</td>\n",
       "      <td>NaN</td>\n",
       "    </tr>\n",
       "    <tr>\n",
       "      <th>Value</th>\n",
       "      <td>Quentin Tarantino</td>\n",
       "      <td>NaN</td>\n",
       "      <td>Lawrence Bender</td>\n",
       "      <td>Pam Grier\\nSamuel L. Jackson\\nRobert Forster\\n...</td>\n",
       "      <td>Guillermo Navarro</td>\n",
       "      <td>Sally Menke</td>\n",
       "      <td>NaN</td>\n",
       "      <td>Miramax Films</td>\n",
       "      <td>December 8, 1997 (1997-12-08) (Ziegfeld Theatr...</td>\n",
       "      <td>154 minutes[1]</td>\n",
       "      <td>...</td>\n",
       "      <td>$74.7 million[2]</td>\n",
       "      <td>Jackie Brown</td>\n",
       "      <td>NaN</td>\n",
       "      <td>Quentin Tarantino</td>\n",
       "      <td>Rum Punchby Elmore Leonard</td>\n",
       "      <td>A Band Apart</td>\n",
       "      <td>NaN</td>\n",
       "      <td>NaN</td>\n",
       "      <td>NaN</td>\n",
       "      <td>NaN</td>\n",
       "    </tr>\n",
       "    <tr>\n",
       "      <th>Value</th>\n",
       "      <td>Quentin Tarantino</td>\n",
       "      <td>Quentin Tarantino</td>\n",
       "      <td>Lawrence Bender</td>\n",
       "      <td>Uma Thurman\\nLucy Liu\\nVivica A. Fox\\nMichael ...</td>\n",
       "      <td>Robert Richardson</td>\n",
       "      <td>Sally Menke</td>\n",
       "      <td>NaN</td>\n",
       "      <td>Miramax Films[1]</td>\n",
       "      <td>NaN</td>\n",
       "      <td>111 minutes</td>\n",
       "      <td>...</td>\n",
       "      <td>$180.9 million[2]</td>\n",
       "      <td>Kill Bill: Volume 1</td>\n",
       "      <td>NaN</td>\n",
       "      <td>NaN</td>\n",
       "      <td>NaN</td>\n",
       "      <td>A Band Apart[1]</td>\n",
       "      <td>RZA</td>\n",
       "      <td>October 10, 2003 (2003-10-10)</td>\n",
       "      <td>EnglishChineseJapanese</td>\n",
       "      <td>NaN</td>\n",
       "    </tr>\n",
       "    <tr>\n",
       "      <th>Value</th>\n",
       "      <td>Quentin Tarantino</td>\n",
       "      <td>Quentin Tarantino</td>\n",
       "      <td>Lawrence Bender</td>\n",
       "      <td>Uma Thurman\\nDavid Carradine\\nMichael Madsen\\n...</td>\n",
       "      <td>Robert Richardson</td>\n",
       "      <td>Sally Menke</td>\n",
       "      <td>NaN</td>\n",
       "      <td>Miramax Films</td>\n",
       "      <td>April 8, 2004 (2004-04-08) (Cinerama Dome)\\nAp...</td>\n",
       "      <td>138 minutes</td>\n",
       "      <td>...</td>\n",
       "      <td>$152.2 million[3]</td>\n",
       "      <td>Kill Bill: Volume 2</td>\n",
       "      <td>NaN</td>\n",
       "      <td>NaN</td>\n",
       "      <td>NaN</td>\n",
       "      <td>A Band Apart[1]</td>\n",
       "      <td>RZA\\nRobert Rodriguez</td>\n",
       "      <td>NaN</td>\n",
       "      <td>NaN</td>\n",
       "      <td>NaN</td>\n",
       "    </tr>\n",
       "    <tr>\n",
       "      <th>Value</th>\n",
       "      <td>Quentin Tarantino</td>\n",
       "      <td>Quentin Tarantino</td>\n",
       "      <td>Elizabeth Avellán\\nRobert Rodriguez\\nErica Ste...</td>\n",
       "      <td>Kurt Russell\\nRosario Dawson\\nVanessa Ferlito\\...</td>\n",
       "      <td>Quentin Tarantino</td>\n",
       "      <td>Sally Menke</td>\n",
       "      <td>NaN</td>\n",
       "      <td>Dimension Films</td>\n",
       "      <td>NaN</td>\n",
       "      <td>113 minutes</td>\n",
       "      <td>...</td>\n",
       "      <td>$31.1 million[1]</td>\n",
       "      <td>Death Proof</td>\n",
       "      <td>NaN</td>\n",
       "      <td>NaN</td>\n",
       "      <td>NaN</td>\n",
       "      <td>Troublemaker Studios</td>\n",
       "      <td>NaN</td>\n",
       "      <td>April 6, 2007 (2007-04-06)[a]</td>\n",
       "      <td>NaN</td>\n",
       "      <td>NaN</td>\n",
       "    </tr>\n",
       "    <tr>\n",
       "      <th>Value</th>\n",
       "      <td>Quentin Tarantino</td>\n",
       "      <td>Quentin Tarantino</td>\n",
       "      <td>Lawrence Bender</td>\n",
       "      <td>Brad Pitt\\nChristoph Waltz\\nMichael Fassbender...</td>\n",
       "      <td>Robert Richardson</td>\n",
       "      <td>Sally Menke</td>\n",
       "      <td>The Weinstein Company[1]\\nUniversal Pictures[1...</td>\n",
       "      <td>The Weinstein Company (United States)\\nUnivers...</td>\n",
       "      <td>May 20, 2009 (2009-05-20) (Cannes)\\nAugust 20,...</td>\n",
       "      <td>153 minutes[2]</td>\n",
       "      <td>...</td>\n",
       "      <td>$321.5 million[7]</td>\n",
       "      <td>Inglourious Basterds</td>\n",
       "      <td>NaN</td>\n",
       "      <td>NaN</td>\n",
       "      <td>NaN</td>\n",
       "      <td>NaN</td>\n",
       "      <td>NaN</td>\n",
       "      <td>NaN</td>\n",
       "      <td>English\\nGerman\\nFrench</td>\n",
       "      <td>United States[3][4][5]\\nGermany[3][4]</td>\n",
       "    </tr>\n",
       "    <tr>\n",
       "      <th>Value</th>\n",
       "      <td>Quentin Tarantino</td>\n",
       "      <td>Quentin Tarantino</td>\n",
       "      <td>Stacey Sher\\nReginald Hudlin\\nPilar Savone</td>\n",
       "      <td>Jamie Foxx\\nChristoph Waltz\\nLeonardo DiCaprio...</td>\n",
       "      <td>Robert Richardson</td>\n",
       "      <td>Fred Raskin</td>\n",
       "      <td>A Band Apart[1]\\nColumbia Pictures[1]</td>\n",
       "      <td>The Weinstein Company[1] (United States)[2]\\nC...</td>\n",
       "      <td>December 11, 2012 (2012-12-11) (Ziegfeld Theat...</td>\n",
       "      <td>165 minutes[4]</td>\n",
       "      <td>...</td>\n",
       "      <td>$426 million[3]</td>\n",
       "      <td>Django Unchained</td>\n",
       "      <td>NaN</td>\n",
       "      <td>NaN</td>\n",
       "      <td>NaN</td>\n",
       "      <td>NaN</td>\n",
       "      <td>NaN</td>\n",
       "      <td>NaN</td>\n",
       "      <td>NaN</td>\n",
       "      <td>NaN</td>\n",
       "    </tr>\n",
       "    <tr>\n",
       "      <th>Value</th>\n",
       "      <td>Quentin Tarantino</td>\n",
       "      <td>Quentin Tarantino</td>\n",
       "      <td>Richard N. Gladstein\\nStacey Sher\\nShannon McI...</td>\n",
       "      <td>Samuel L. Jackson\\nKurt Russell\\nJennifer Jaso...</td>\n",
       "      <td>Robert Richardson</td>\n",
       "      <td>Fred Raskin</td>\n",
       "      <td>The Weinstein Company[1]\\nShiny Penny[2]\\nFilm...</td>\n",
       "      <td>The Weinstein Company[2]</td>\n",
       "      <td>December 7, 2015 (2015-12-07) (Cinerama Dome)\\...</td>\n",
       "      <td>187 minutes (Roadshow)\\n168 minutes (General)</td>\n",
       "      <td>...</td>\n",
       "      <td>$156.5 million[5]</td>\n",
       "      <td>The Hateful Eight</td>\n",
       "      <td>NaN</td>\n",
       "      <td>NaN</td>\n",
       "      <td>NaN</td>\n",
       "      <td>NaN</td>\n",
       "      <td>Ennio Morricone</td>\n",
       "      <td>NaN</td>\n",
       "      <td>NaN</td>\n",
       "      <td>NaN</td>\n",
       "    </tr>\n",
       "    <tr>\n",
       "      <th>Value</th>\n",
       "      <td>Quentin Tarantino</td>\n",
       "      <td>Quentin Tarantino</td>\n",
       "      <td>David Heyman\\nShannon McIntosh\\nQuentin Tarantino</td>\n",
       "      <td>Leonardo DiCaprio\\nBrad Pitt\\nMargot Robbie\\nE...</td>\n",
       "      <td>Robert Richardson</td>\n",
       "      <td>Fred Raskin</td>\n",
       "      <td>Columbia Pictures\\nBona Film Group\\nHeyday Fil...</td>\n",
       "      <td>Sony Pictures Releasing (worldwide)\\nHuaxia Fi...</td>\n",
       "      <td>May 21, 2019 (2019-05-21) (Cannes)\\nJuly 26, 2...</td>\n",
       "      <td>161 minutes[1]</td>\n",
       "      <td>...</td>\n",
       "      <td>$377.6 million[4]</td>\n",
       "      <td>Once Upon a Time in Hollywood</td>\n",
       "      <td>NaN</td>\n",
       "      <td>NaN</td>\n",
       "      <td>NaN</td>\n",
       "      <td>NaN</td>\n",
       "      <td>NaN</td>\n",
       "      <td>NaN</td>\n",
       "      <td>NaN</td>\n",
       "      <td>United States\\nUnited Kingdom\\nChina[2]</td>\n",
       "    </tr>\n",
       "  </tbody>\n",
       "</table>\n",
       "<p>10 rows × 23 columns</p>\n",
       "</div>"
      ],
      "text/plain": [
       "Attribute        Directed by         Written by  \\\n",
       "Value      Quentin Tarantino  Quentin Tarantino   \n",
       "Value      Quentin Tarantino  Quentin Tarantino   \n",
       "Value      Quentin Tarantino                NaN   \n",
       "Value      Quentin Tarantino  Quentin Tarantino   \n",
       "Value      Quentin Tarantino  Quentin Tarantino   \n",
       "Value      Quentin Tarantino  Quentin Tarantino   \n",
       "Value      Quentin Tarantino  Quentin Tarantino   \n",
       "Value      Quentin Tarantino  Quentin Tarantino   \n",
       "Value      Quentin Tarantino  Quentin Tarantino   \n",
       "Value      Quentin Tarantino  Quentin Tarantino   \n",
       "\n",
       "Attribute                                        Produced by  \\\n",
       "Value                                        Lawrence Bender   \n",
       "Value                                        Lawrence Bender   \n",
       "Value                                        Lawrence Bender   \n",
       "Value                                        Lawrence Bender   \n",
       "Value                                        Lawrence Bender   \n",
       "Value      Elizabeth Avellán\\nRobert Rodriguez\\nErica Ste...   \n",
       "Value                                        Lawrence Bender   \n",
       "Value             Stacey Sher\\nReginald Hudlin\\nPilar Savone   \n",
       "Value      Richard N. Gladstein\\nStacey Sher\\nShannon McI...   \n",
       "Value      David Heyman\\nShannon McIntosh\\nQuentin Tarantino   \n",
       "\n",
       "Attribute                                           Starring  \\\n",
       "Value      Harvey Keitel\\nTim Roth\\nChris Penn\\nSteve Bus...   \n",
       "Value      John Travolta\\nSamuel L. Jackson\\nUma Thurman\\...   \n",
       "Value      Pam Grier\\nSamuel L. Jackson\\nRobert Forster\\n...   \n",
       "Value      Uma Thurman\\nLucy Liu\\nVivica A. Fox\\nMichael ...   \n",
       "Value      Uma Thurman\\nDavid Carradine\\nMichael Madsen\\n...   \n",
       "Value      Kurt Russell\\nRosario Dawson\\nVanessa Ferlito\\...   \n",
       "Value      Brad Pitt\\nChristoph Waltz\\nMichael Fassbender...   \n",
       "Value      Jamie Foxx\\nChristoph Waltz\\nLeonardo DiCaprio...   \n",
       "Value      Samuel L. Jackson\\nKurt Russell\\nJennifer Jaso...   \n",
       "Value      Leonardo DiCaprio\\nBrad Pitt\\nMargot Robbie\\nE...   \n",
       "\n",
       "Attribute     Cinematography    Edited by  \\\n",
       "Value         Andrzej Sekuła  Sally Menke   \n",
       "Value         Andrzej Sekuła  Sally Menke   \n",
       "Value      Guillermo Navarro  Sally Menke   \n",
       "Value      Robert Richardson  Sally Menke   \n",
       "Value      Robert Richardson  Sally Menke   \n",
       "Value      Quentin Tarantino  Sally Menke   \n",
       "Value      Robert Richardson  Sally Menke   \n",
       "Value      Robert Richardson  Fred Raskin   \n",
       "Value      Robert Richardson  Fred Raskin   \n",
       "Value      Robert Richardson  Fred Raskin   \n",
       "\n",
       "Attribute                                Productioncompanies  \\\n",
       "Value             Live America Inc.\\nDog Eat Dog Productions   \n",
       "Value                             A Band Apart\\nJersey Films   \n",
       "Value                                                    NaN   \n",
       "Value                                                    NaN   \n",
       "Value                                                    NaN   \n",
       "Value                                                    NaN   \n",
       "Value      The Weinstein Company[1]\\nUniversal Pictures[1...   \n",
       "Value                  A Band Apart[1]\\nColumbia Pictures[1]   \n",
       "Value      The Weinstein Company[1]\\nShiny Penny[2]\\nFilm...   \n",
       "Value      Columbia Pictures\\nBona Film Group\\nHeyday Fil...   \n",
       "\n",
       "Attribute                                     Distributed by  \\\n",
       "Value                                          Miramax Films   \n",
       "Value                                          Miramax Films   \n",
       "Value                                          Miramax Films   \n",
       "Value                                       Miramax Films[1]   \n",
       "Value                                          Miramax Films   \n",
       "Value                                        Dimension Films   \n",
       "Value      The Weinstein Company (United States)\\nUnivers...   \n",
       "Value      The Weinstein Company[1] (United States)[2]\\nC...   \n",
       "Value                               The Weinstein Company[2]   \n",
       "Value      Sony Pictures Releasing (worldwide)\\nHuaxia Fi...   \n",
       "\n",
       "Attribute                                      Release dates  \\\n",
       "Value      January 21, 1992 (1992-01-21) (Sundance)\\nOcto...   \n",
       "Value      May 21, 1994 (1994-05-21) (Cannes)\\nOctober 14...   \n",
       "Value      December 8, 1997 (1997-12-08) (Ziegfeld Theatr...   \n",
       "Value                                                    NaN   \n",
       "Value      April 8, 2004 (2004-04-08) (Cinerama Dome)\\nAp...   \n",
       "Value                                                    NaN   \n",
       "Value      May 20, 2009 (2009-05-20) (Cannes)\\nAugust 20,...   \n",
       "Value      December 11, 2012 (2012-12-11) (Ziegfeld Theat...   \n",
       "Value      December 7, 2015 (2015-12-07) (Cinerama Dome)\\...   \n",
       "Value      May 21, 2019 (2019-05-21) (Cannes)\\nJuly 26, 2...   \n",
       "\n",
       "Attribute                                   Running time  ...  \\\n",
       "Value                                      99 minutes[1]  ...   \n",
       "Value                                     154 minutes[1]  ...   \n",
       "Value                                     154 minutes[1]  ...   \n",
       "Value                                        111 minutes  ...   \n",
       "Value                                        138 minutes  ...   \n",
       "Value                                        113 minutes  ...   \n",
       "Value                                     153 minutes[2]  ...   \n",
       "Value                                     165 minutes[4]  ...   \n",
       "Value      187 minutes (Roadshow)\\n168 minutes (General)  ...   \n",
       "Value                                     161 minutes[1]  ...   \n",
       "\n",
       "Attribute         Box office                          title  \\\n",
       "Value        $2.9 million[1]                 Reservoir Dogs   \n",
       "Value      $213.9 million[2]                   Pulp Fiction   \n",
       "Value       $74.7 million[2]                   Jackie Brown   \n",
       "Value      $180.9 million[2]            Kill Bill: Volume 1   \n",
       "Value      $152.2 million[3]            Kill Bill: Volume 2   \n",
       "Value       $31.1 million[1]                    Death Proof   \n",
       "Value      $321.5 million[7]           Inglourious Basterds   \n",
       "Value        $426 million[3]               Django Unchained   \n",
       "Value      $156.5 million[5]              The Hateful Eight   \n",
       "Value      $377.6 million[4]  Once Upon a Time in Hollywood   \n",
       "\n",
       "Attribute                        Story by      Screenplay by  \\\n",
       "Value                                 NaN                NaN   \n",
       "Value      Quentin Tarantino\\nRoger Avary                NaN   \n",
       "Value                                 NaN  Quentin Tarantino   \n",
       "Value                                 NaN                NaN   \n",
       "Value                                 NaN                NaN   \n",
       "Value                                 NaN                NaN   \n",
       "Value                                 NaN                NaN   \n",
       "Value                                 NaN                NaN   \n",
       "Value                                 NaN                NaN   \n",
       "Value                                 NaN                NaN   \n",
       "\n",
       "Attribute                    Based on     Productioncompany  \\\n",
       "Value                             NaN                   NaN   \n",
       "Value                             NaN                   NaN   \n",
       "Value      Rum Punchby Elmore Leonard          A Band Apart   \n",
       "Value                             NaN       A Band Apart[1]   \n",
       "Value                             NaN       A Band Apart[1]   \n",
       "Value                             NaN  Troublemaker Studios   \n",
       "Value                             NaN                   NaN   \n",
       "Value                             NaN                   NaN   \n",
       "Value                             NaN                   NaN   \n",
       "Value                             NaN                   NaN   \n",
       "\n",
       "Attribute               Music by                   Release date  \\\n",
       "Value                        NaN                            NaN   \n",
       "Value                        NaN                            NaN   \n",
       "Value                        NaN                            NaN   \n",
       "Value                        RZA  October 10, 2003 (2003-10-10)   \n",
       "Value      RZA\\nRobert Rodriguez                            NaN   \n",
       "Value                        NaN  April 6, 2007 (2007-04-06)[a]   \n",
       "Value                        NaN                            NaN   \n",
       "Value                        NaN                            NaN   \n",
       "Value            Ennio Morricone                            NaN   \n",
       "Value                        NaN                            NaN   \n",
       "\n",
       "Attribute                Languages                                Countries  \n",
       "Value                          NaN                                      NaN  \n",
       "Value                          NaN                                      NaN  \n",
       "Value                          NaN                                      NaN  \n",
       "Value       EnglishChineseJapanese                                      NaN  \n",
       "Value                          NaN                                      NaN  \n",
       "Value                          NaN                                      NaN  \n",
       "Value      English\\nGerman\\nFrench    United States[3][4][5]\\nGermany[3][4]  \n",
       "Value                          NaN                                      NaN  \n",
       "Value                          NaN                                      NaN  \n",
       "Value                          NaN  United States\\nUnited Kingdom\\nChina[2]  \n",
       "\n",
       "[10 rows x 23 columns]"
      ]
     },
     "execution_count": 24,
     "metadata": {},
     "output_type": "execute_result"
    }
   ],
   "source": [
    "pd.concat(movie_dfs,axis=1).transpose()"
   ]
  },
  {
   "cell_type": "markdown",
   "metadata": {},
   "source": [
    "## JSON normalize"
   ]
  },
  {
   "cell_type": "code",
   "execution_count": 25,
   "metadata": {},
   "outputs": [],
   "source": [
    "import pandas as pd\n",
    "\n",
    "# Example JSON data\n",
    "data = [\n",
    "    {\n",
    "        \"id\": 1,\n",
    "        \"name\": \"Alice\",\n",
    "        \"contact\": {\n",
    "            \"email\": \"alice@example.com\",\n",
    "            \"phone\": \"123-456-7890\"\n",
    "        },\n",
    "        \"skills\": [\"Python\", \"Data Analysis\"]\n",
    "    },\n",
    "    {\n",
    "        \"id\": 2,\n",
    "        \"name\": \"Bob\",\n",
    "        \"contact\": {\n",
    "            \"email\": \"bob@example.com\",\n",
    "            \"phone\": \"987-654-3210\"\n",
    "        },\n",
    "        \"skills\": [\"Java\", \"Machine Learning\"]\n",
    "    }\n",
    "]"
   ]
  },
  {
   "cell_type": "code",
   "execution_count": 26,
   "metadata": {},
   "outputs": [
    {
     "name": "stdout",
     "output_type": "stream",
     "text": [
      "   id   name                    skills      contact_email contact_phone\n",
      "0   1  Alice   [Python, Data Analysis]  alice@example.com  123-456-7890\n",
      "1   2    Bob  [Java, Machine Learning]    bob@example.com  987-654-3210\n"
     ]
    }
   ],
   "source": [
    "# How to use json normalize to flatten nested json data\n",
    "\n",
    "df = pd.json_normalize(data, sep='_', meta=['id', 'name', 'skills'])\n",
    "print(df)"
   ]
  },
  {
   "cell_type": "code",
   "execution_count": 27,
   "metadata": {},
   "outputs": [
    {
     "name": "stdout",
     "output_type": "stream",
     "text": [
      "                  0 id   name      contact_email contact_phone\n",
      "0            Python  1  Alice  alice@example.com  123-456-7890\n",
      "1     Data Analysis  1  Alice  alice@example.com  123-456-7890\n",
      "2              Java  2    Bob    bob@example.com  987-654-3210\n",
      "3  Machine Learning  2    Bob    bob@example.com  987-654-3210\n"
     ]
    }
   ],
   "source": [
    "# Flatten the JSON data\n",
    "df = pd.json_normalize(\n",
    "    data,\n",
    "    sep='_',  # Separator for nested keys\n",
    "    record_path=['skills'],  # Unnest lists under \"skills\"\n",
    "    meta=['id', 'name', ['contact', 'email'], ['contact', 'phone']]  # Include metadata\n",
    ")\n",
    "\n",
    "print(df)"
   ]
  },
  {
   "cell_type": "code",
   "execution_count": null,
   "metadata": {},
   "outputs": [],
   "source": []
  },
  {
   "cell_type": "markdown",
   "metadata": {},
   "source": [
    "### Example of api request to openweather"
   ]
  },
  {
   "cell_type": "code",
   "execution_count": null,
   "metadata": {},
   "outputs": [
    {
     "name": "stdout",
     "output_type": "stream",
     "text": [
      "       City  Temperature        Condition\n",
      "0  New York        10.76  overcast clouds\n",
      "1    London         3.10  overcast clouds\n",
      "2     Tokyo         8.18    moderate rain\n",
      "City with the highest temperature trend:\n",
      "       City  Temperature        Condition\n",
      "0  New York        10.76  overcast clouds\n"
     ]
    }
   ],
   "source": [
    "import requests\n",
    "import pandas as pd\n",
    "\n",
    "# Example list of cities\n",
    "cities = ['New York', 'London', 'Tokyo']\n",
    "api_key = '' # Add your OpenWeatherMap API key here\n",
    "\n",
    "weather_data = []\n",
    "\n",
    "# Step 1: Fetch data for each city\n",
    "for city in cities:\n",
    "    response = requests.get(f'https://api.openweathermap.org/data/2.5/weather?q={city}&appid={api_key}&units=metric')\n",
    "    data = response.json()\n",
    "    weather_data.append({\n",
    "        'City': city,\n",
    "        'Temperature': data['main']['temp'],\n",
    "        'Condition': data['weather'][0]['description']\n",
    "    })\n",
    "\n",
    "# Step 2: Convert to DataFrame for analysis\n",
    "df = pd.DataFrame(weather_data)\n",
    "\n",
    "# Step 3: Analyze the data\n",
    "highest_temp_city = df[df['Temperature'] == df['Temperature'].max()]\n",
    "print(df)\n",
    "print(\"City with the highest temperature trend:\")\n",
    "print(highest_temp_city)"
   ]
  },
  {
   "cell_type": "code",
   "execution_count": 34,
   "metadata": {},
   "outputs": [
    {
     "data": {
      "text/html": [
       "<div>\n",
       "<style scoped>\n",
       "    .dataframe tbody tr th:only-of-type {\n",
       "        vertical-align: middle;\n",
       "    }\n",
       "\n",
       "    .dataframe tbody tr th {\n",
       "        vertical-align: top;\n",
       "    }\n",
       "\n",
       "    .dataframe thead th {\n",
       "        text-align: right;\n",
       "    }\n",
       "</style>\n",
       "<table border=\"1\" class=\"dataframe\">\n",
       "  <thead>\n",
       "    <tr style=\"text-align: right;\">\n",
       "      <th></th>\n",
       "      <th>City</th>\n",
       "      <th>Temperature</th>\n",
       "      <th>Condition</th>\n",
       "    </tr>\n",
       "  </thead>\n",
       "  <tbody>\n",
       "    <tr>\n",
       "      <th>0</th>\n",
       "      <td>New York</td>\n",
       "      <td>10.76</td>\n",
       "      <td>overcast clouds</td>\n",
       "    </tr>\n",
       "    <tr>\n",
       "      <th>1</th>\n",
       "      <td>London</td>\n",
       "      <td>3.10</td>\n",
       "      <td>overcast clouds</td>\n",
       "    </tr>\n",
       "    <tr>\n",
       "      <th>2</th>\n",
       "      <td>Tokyo</td>\n",
       "      <td>8.18</td>\n",
       "      <td>moderate rain</td>\n",
       "    </tr>\n",
       "  </tbody>\n",
       "</table>\n",
       "</div>"
      ],
      "text/plain": [
       "       City  Temperature        Condition\n",
       "0  New York        10.76  overcast clouds\n",
       "1    London         3.10  overcast clouds\n",
       "2     Tokyo         8.18    moderate rain"
      ]
     },
     "execution_count": 34,
     "metadata": {},
     "output_type": "execute_result"
    }
   ],
   "source": [
    "df"
   ]
  },
  {
   "cell_type": "code",
   "execution_count": null,
   "metadata": {},
   "outputs": [],
   "source": []
  }
 ],
 "metadata": {
  "kernelspec": {
   "display_name": "Python 3",
   "language": "python",
   "name": "python3"
  },
  "language_info": {
   "codemirror_mode": {
    "name": "ipython",
    "version": 3
   },
   "file_extension": ".py",
   "mimetype": "text/x-python",
   "name": "python",
   "nbconvert_exporter": "python",
   "pygments_lexer": "ipython3",
   "version": "3.11.10"
  }
 },
 "nbformat": 4,
 "nbformat_minor": 2
}
