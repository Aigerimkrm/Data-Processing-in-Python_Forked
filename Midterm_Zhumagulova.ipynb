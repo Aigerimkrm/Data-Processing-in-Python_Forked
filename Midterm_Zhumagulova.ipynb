{
 "cells": [
  {
   "cell_type": "code",
   "execution_count": 2,
   "id": "25efa92d-85b8-4dc3-9833-aff4dcac343f",
   "metadata": {},
   "outputs": [],
   "source": [
    "import seaborn as sns\n",
    "import pandas as pd\n",
    "import zipfile\n",
    "import numpy as np\n",
    "\n",
    "import datetime"
   ]
  },
  {
   "cell_type": "code",
   "execution_count": null,
   "id": "7d82f094-8182-479f-8f64-24215a963030",
   "metadata": {},
   "outputs": [],
   "source": []
  },
  {
   "cell_type": "code",
   "execution_count": null,
   "id": "bbaa114a-2fd3-44a5-b758-61bed52ba0e7",
   "metadata": {},
   "outputs": [],
   "source": []
  },
  {
   "cell_type": "markdown",
   "id": "7edc5797-eaeb-4dd7-8fb7-cc28553f14a3",
   "metadata": {},
   "source": [
    "## Downloading the data"
   ]
  },
  {
   "cell_type": "code",
   "execution_count": 9,
   "id": "0a6fb27c-48d2-4816-9d37-6c4523fac585",
   "metadata": {},
   "outputs": [],
   "source": [
    "CPB = pd.read_csv(\"C:/Users/Windows 10/Desktop/data/CPB.csv\")\n",
    "GPC = pd.read_csv(\"C:/Users/Windows 10/Desktop/data/GPC.csv\")\n",
    "MTB = pd.read_csv(\"C:/Users/Windows 10/Desktop/data/MTB.csv\")\n",
    "SYY = pd.read_csv(\"C:/Users/Windows 10/Desktop/data/SYY.csv\")"
   ]
  },
  {
   "cell_type": "markdown",
   "id": "06cc56c4-bf39-404c-a83e-8a9dee547f1b",
   "metadata": {},
   "source": [
    "## Part 1 "
   ]
  },
  {
   "cell_type": "markdown",
   "id": "7f7e178e-3a1d-43a3-ae4a-3615dcae6363",
   "metadata": {},
   "source": [
    "1. Is there a company that has no difference between the High and Low columns?\r\n",
    "What does it mean for the stock's trading behavior on such days?\r\n",
    "2. (1pt task) \"What is the highest and lowest price (High) each company recorded?\"\r\n",
    "3. (1pt task) Calculate logarithmic returns from Close. For each company report on\r\n",
    "its, min, max, mean, standard deviation, and skewness of the return distribution.\r\n",
    "4. When did each company record the second highest gain and second highest\r\n",
    "loss for the day? (logarithmic loss). Hint: idxmax\r\n",
    "5. What is the median calendar weekly volume for each company? Hint: check how\r\n",
    "to resample pandas DF\r\n",
    "6. Which company recorded the lowest total return over the whole period?\r\n",
    "7. Create a new column volume_class based on the volume column into\r\n",
    "categories (e.g., \"Low\", \"Medium\", \"High\") and use tertile thresholds for the\r\n",
    "classes.\r\n",
    "8. A. Plot the log-returns of the companies (ideally in the same plot).\r\n",
    "B. Show the log-return distribution of the companies (ideally in the same plot)."
   ]
  },
  {
   "cell_type": "code",
   "execution_count": 10,
   "id": "a56733a3-2313-4b79-bea8-60ea2dc888c2",
   "metadata": {},
   "outputs": [],
   "source": [
    "companies_list =[CPB, GPC, MTB, SYY]\n",
    "companies_names = ['CPB', 'GPC', 'MTB', 'SYY']"
   ]
  },
  {
   "cell_type": "code",
   "execution_count": 14,
   "id": "efdd8a5e-d679-4767-80b0-07d9f68f1ff6",
   "metadata": {},
   "outputs": [
    {
     "data": {
      "text/plain": [
       "0.8295867549668874"
      ]
     },
     "execution_count": 14,
     "metadata": {},
     "output_type": "execute_result"
    }
   ],
   "source": [
    "(CPB['High'] - CPB['Low']).mean()"
   ]
  },
  {
   "cell_type": "code",
   "execution_count": 18,
   "id": "4e02d5f0-9d34-45ba-be91-f1f1002b2c78",
   "metadata": {},
   "outputs": [
    {
     "name": "stdout",
     "output_type": "stream",
     "text": [
      "This is the average difference for CPB: 0.8295867549668874\n",
      "This is the average difference for GPC: 1.881153642384106\n",
      "This is the average difference for MTB: 3.1544483443708606\n",
      "This is the average difference for SYY: 1.3133410596026491\n"
     ]
    }
   ],
   "source": [
    "k=0\n",
    "for company in companies_list:\n",
    "    high = company['High']\n",
    "    low = company['Low']\n",
    "    avg_difference = (high-low).mean()\n",
    "    print(f'This is the average difference for {companies_names[k]}: {avg_difference}')\n",
    "    k+=1"
   ]
  },
  {
   "cell_type": "code",
   "execution_count": null,
   "id": "cc7be41a-3044-4dd3-a37f-72bc26da5d4e",
   "metadata": {},
   "outputs": [],
   "source": []
  },
  {
   "cell_type": "code",
   "execution_count": null,
   "id": "d6c01762-b4b1-4b7b-99dd-dcd25fb727bd",
   "metadata": {},
   "outputs": [],
   "source": [
    "# Ex 2"
   ]
  },
  {
   "cell_type": "code",
   "execution_count": 21,
   "id": "8a142fd6-a4c4-4ff9-aa15-fc0929e825f1",
   "metadata": {},
   "outputs": [
    {
     "name": "stdout",
     "output_type": "stream",
     "text": [
      "For CPB the max value is 54.238, and the min value is 26.439\n",
      "For GPC the max value is 179.245, and the min value is 43.95\n",
      "For MTB the max value is 179.032, and the min value is 73.066\n",
      "For SYY the max value is 85.643, and the min value is 22.88\n"
     ]
    }
   ],
   "source": [
    "k=0\n",
    "\n",
    "for company in companies_list:\n",
    "    max = company['High'].max()\n",
    "    min = company['Low'].min()\n",
    "    avg_difference = (high-low).mean()\n",
    "    print(f'For {companies_names[k]} the max value is {max}, and the min value is {min}')\n",
    "    k+=1"
   ]
  },
  {
   "cell_type": "code",
   "execution_count": null,
   "id": "d49557e9-08fb-4bb5-8a41-84689178b4d4",
   "metadata": {},
   "outputs": [],
   "source": []
  },
  {
   "cell_type": "code",
   "execution_count": 22,
   "id": "aa4fb02a-85dc-4d57-a144-401d22bb5a76",
   "metadata": {},
   "outputs": [],
   "source": [
    "# Ex 3"
   ]
  },
  {
   "cell_type": "code",
   "execution_count": 170,
   "id": "a02fc2f5-82aa-48ac-842c-227acbe1be60",
   "metadata": {},
   "outputs": [
    {
     "name": "stdout",
     "output_type": "stream",
     "text": [
      "For CPB. Min lret:-0.13198, Max lret: 0.0963, Mean: 8e-05\n",
      "For GPC. Min lret:-0.15003, Max lret: 0.18996, Mean: 0.00051\n",
      "For MTB. Min lret:-0.14953, Max lret: 0.2239, Mean: 5e-05\n",
      "For SYY. Min lret:-0.23706, Max lret: 0.1722, Mean: 0.00032\n"
     ]
    }
   ],
   "source": [
    "k=0\n",
    "\n",
    "for company in companies_list:\n",
    "    lrets = np.log(company['Close']/company['Close'].shift(1))\n",
    "    lrets_min = lrets.min().round(5)\n",
    "    lrets_max = lrets.max().round(5)\n",
    "    lrets_mean = lrets.mean().round(5)\n",
    "    # lrets_sd = \n",
    "    print(f'For {companies_names[k]}. Min lret:{lrets_min}, Max lret: {lrets_max}, Mean: {lrets_mean}, SD: {}')\n",
    "    k+=1"
   ]
  },
  {
   "cell_type": "code",
   "execution_count": null,
   "id": "d7aa2008-23db-4116-80e6-866c3523ad54",
   "metadata": {},
   "outputs": [],
   "source": []
  },
  {
   "cell_type": "code",
   "execution_count": null,
   "id": "e2d5d217-a6a8-464d-acfb-ecbfa3278e11",
   "metadata": {},
   "outputs": [],
   "source": [
    "# Ex 4\n",
    "# When did each company record the second highest gain and second highest loss for the day? (logarithmic loss). Hint: idxmax"
   ]
  },
  {
   "cell_type": "code",
   "execution_count": 171,
   "id": "6133dd95-6139-4ed1-a008-d143919c7d0f",
   "metadata": {},
   "outputs": [],
   "source": [
    "for company in companies_list:\n",
    "    lrets = np.log(company['Close']/company['Close'].shift(1))"
   ]
  },
  {
   "cell_type": "code",
   "execution_count": 172,
   "id": "7f4155be-5587-4897-b507-8b33013fb624",
   "metadata": {},
   "outputs": [
    {
     "data": {
      "text/plain": [
       "802   -0.237061\n",
       "804   -0.220636\n",
       "801   -0.123818\n",
       "806   -0.115375\n",
       "464   -0.099155\n",
       "         ...   \n",
       "970    0.155221\n",
       "811    0.157967\n",
       "812    0.158296\n",
       "807    0.172201\n",
       "0           NaN\n",
       "Name: Close, Length: 1510, dtype: float64"
      ]
     },
     "execution_count": 172,
     "metadata": {},
     "output_type": "execute_result"
    }
   ],
   "source": [
    "np.log(SYY['Close']/SYY['Close'].shift(1)).sort_values()"
   ]
  },
  {
   "cell_type": "code",
   "execution_count": null,
   "id": "c2ec323a-cb8e-42be-8503-05d5ccfb5b7b",
   "metadata": {},
   "outputs": [],
   "source": []
  },
  {
   "cell_type": "code",
   "execution_count": 173,
   "id": "0fde764d-1360-4d52-9d4d-7f1ac8e0ee07",
   "metadata": {},
   "outputs": [],
   "source": [
    "# Ex 5 \n",
    "# What is the median calendar weekly volume for each company? Hint: check how to resample pandas DF"
   ]
  },
  {
   "cell_type": "code",
   "execution_count": 197,
   "id": "297b9b51-5414-47a0-826d-2ea0ed9da11e",
   "metadata": {},
   "outputs": [
    {
     "data": {
      "text/plain": [
       "['CPB', 'GPC', 'MTB', 'SYY']"
      ]
     },
     "execution_count": 197,
     "metadata": {},
     "output_type": "execute_result"
    }
   ],
   "source": [
    "companies_names"
   ]
  },
  {
   "cell_type": "code",
   "execution_count": null,
   "id": "b9207262-0652-4709-ab14-bbc101cea254",
   "metadata": {},
   "outputs": [],
   "source": []
  },
  {
   "cell_type": "code",
   "execution_count": 200,
   "id": "07118763-78d4-40e4-a84a-a0b92ce0a717",
   "metadata": {},
   "outputs": [
    {
     "data": {
      "text/html": [
       "<div>\n",
       "<style scoped>\n",
       "    .dataframe tbody tr th:only-of-type {\n",
       "        vertical-align: middle;\n",
       "    }\n",
       "\n",
       "    .dataframe tbody tr th {\n",
       "        vertical-align: top;\n",
       "    }\n",
       "\n",
       "    .dataframe thead th {\n",
       "        text-align: right;\n",
       "    }\n",
       "</style>\n",
       "<table border=\"1\" class=\"dataframe\">\n",
       "  <thead>\n",
       "    <tr style=\"text-align: right;\">\n",
       "      <th></th>\n",
       "      <th>Open</th>\n",
       "      <th>High</th>\n",
       "      <th>Low</th>\n",
       "      <th>Close</th>\n",
       "      <th>Volume</th>\n",
       "      <th>Dividends</th>\n",
       "      <th>Stock Splits</th>\n",
       "    </tr>\n",
       "    <tr>\n",
       "      <th>Date</th>\n",
       "      <th></th>\n",
       "      <th></th>\n",
       "      <th></th>\n",
       "      <th></th>\n",
       "      <th></th>\n",
       "      <th></th>\n",
       "      <th></th>\n",
       "    </tr>\n",
       "  </thead>\n",
       "  <tbody>\n",
       "    <tr>\n",
       "      <th>2017-01-03</th>\n",
       "      <td>45.160</td>\n",
       "      <td>45.429</td>\n",
       "      <td>44.458</td>\n",
       "      <td>44.899</td>\n",
       "      <td>3877000</td>\n",
       "      <td>0.00</td>\n",
       "      <td>0.0</td>\n",
       "    </tr>\n",
       "    <tr>\n",
       "      <th>2017-01-04</th>\n",
       "      <td>44.940</td>\n",
       "      <td>45.441</td>\n",
       "      <td>44.940</td>\n",
       "      <td>45.309</td>\n",
       "      <td>2986700</td>\n",
       "      <td>0.33</td>\n",
       "      <td>0.0</td>\n",
       "    </tr>\n",
       "    <tr>\n",
       "      <th>2017-01-05</th>\n",
       "      <td>45.087</td>\n",
       "      <td>45.416</td>\n",
       "      <td>45.087</td>\n",
       "      <td>45.161</td>\n",
       "      <td>3629400</td>\n",
       "      <td>0.00</td>\n",
       "      <td>0.0</td>\n",
       "    </tr>\n",
       "    <tr>\n",
       "      <th>2017-01-06</th>\n",
       "      <td>45.055</td>\n",
       "      <td>45.712</td>\n",
       "      <td>44.981</td>\n",
       "      <td>45.482</td>\n",
       "      <td>4776500</td>\n",
       "      <td>0.00</td>\n",
       "      <td>0.0</td>\n",
       "    </tr>\n",
       "    <tr>\n",
       "      <th>2017-01-09</th>\n",
       "      <td>45.580</td>\n",
       "      <td>45.950</td>\n",
       "      <td>45.547</td>\n",
       "      <td>45.728</td>\n",
       "      <td>3933300</td>\n",
       "      <td>0.00</td>\n",
       "      <td>0.0</td>\n",
       "    </tr>\n",
       "    <tr>\n",
       "      <th>...</th>\n",
       "      <td>...</td>\n",
       "      <td>...</td>\n",
       "      <td>...</td>\n",
       "      <td>...</td>\n",
       "      <td>...</td>\n",
       "      <td>...</td>\n",
       "      <td>...</td>\n",
       "    </tr>\n",
       "    <tr>\n",
       "      <th>2022-12-23</th>\n",
       "      <td>73.061</td>\n",
       "      <td>74.017</td>\n",
       "      <td>72.824</td>\n",
       "      <td>73.970</td>\n",
       "      <td>1094600</td>\n",
       "      <td>0.00</td>\n",
       "      <td>0.0</td>\n",
       "    </tr>\n",
       "    <tr>\n",
       "      <th>2022-12-27</th>\n",
       "      <td>74.084</td>\n",
       "      <td>74.264</td>\n",
       "      <td>73.099</td>\n",
       "      <td>73.856</td>\n",
       "      <td>2213800</td>\n",
       "      <td>0.00</td>\n",
       "      <td>0.0</td>\n",
       "    </tr>\n",
       "    <tr>\n",
       "      <th>2022-12-28</th>\n",
       "      <td>74.103</td>\n",
       "      <td>74.235</td>\n",
       "      <td>72.691</td>\n",
       "      <td>72.928</td>\n",
       "      <td>2655600</td>\n",
       "      <td>0.00</td>\n",
       "      <td>0.0</td>\n",
       "    </tr>\n",
       "    <tr>\n",
       "      <th>2022-12-29</th>\n",
       "      <td>73.136</td>\n",
       "      <td>73.496</td>\n",
       "      <td>72.748</td>\n",
       "      <td>72.786</td>\n",
       "      <td>1555300</td>\n",
       "      <td>0.00</td>\n",
       "      <td>0.0</td>\n",
       "    </tr>\n",
       "    <tr>\n",
       "      <th>2022-12-30</th>\n",
       "      <td>72.322</td>\n",
       "      <td>72.511</td>\n",
       "      <td>71.583</td>\n",
       "      <td>72.417</td>\n",
       "      <td>2006300</td>\n",
       "      <td>0.00</td>\n",
       "      <td>0.0</td>\n",
       "    </tr>\n",
       "  </tbody>\n",
       "</table>\n",
       "<p>1510 rows × 7 columns</p>\n",
       "</div>"
      ],
      "text/plain": [
       "              Open    High     Low   Close   Volume  Dividends  Stock Splits\n",
       "Date                                                                        \n",
       "2017-01-03  45.160  45.429  44.458  44.899  3877000       0.00           0.0\n",
       "2017-01-04  44.940  45.441  44.940  45.309  2986700       0.33           0.0\n",
       "2017-01-05  45.087  45.416  45.087  45.161  3629400       0.00           0.0\n",
       "2017-01-06  45.055  45.712  44.981  45.482  4776500       0.00           0.0\n",
       "2017-01-09  45.580  45.950  45.547  45.728  3933300       0.00           0.0\n",
       "...            ...     ...     ...     ...      ...        ...           ...\n",
       "2022-12-23  73.061  74.017  72.824  73.970  1094600       0.00           0.0\n",
       "2022-12-27  74.084  74.264  73.099  73.856  2213800       0.00           0.0\n",
       "2022-12-28  74.103  74.235  72.691  72.928  2655600       0.00           0.0\n",
       "2022-12-29  73.136  73.496  72.748  72.786  1555300       0.00           0.0\n",
       "2022-12-30  72.322  72.511  71.583  72.417  2006300       0.00           0.0\n",
       "\n",
       "[1510 rows x 7 columns]"
      ]
     },
     "execution_count": 200,
     "metadata": {},
     "output_type": "execute_result"
    }
   ],
   "source": [
    "SYY['Date'] = pd.to_datetime(SYY['Date'])"
   ]
  },
  {
   "cell_type": "code",
   "execution_count": 198,
   "id": "a1fe7b8e-0dd9-4283-9e92-b2421416aa14",
   "metadata": {},
   "outputs": [
    {
     "ename": "NameError",
     "evalue": "name 'df' is not defined",
     "output_type": "error",
     "traceback": [
      "\u001b[1;31m---------------------------------------------------------------------------\u001b[0m",
      "\u001b[1;31mNameError\u001b[0m                                 Traceback (most recent call last)",
      "Cell \u001b[1;32mIn[198], line 1\u001b[0m\n\u001b[1;32m----> 1\u001b[0m \u001b[43mdf\u001b[49m\u001b[38;5;241m.\u001b[39mset_index(\u001b[38;5;124m\"\u001b[39m\u001b[38;5;124mdate\u001b[39m\u001b[38;5;124m\"\u001b[39m, inplace\u001b[38;5;241m=\u001b[39m\u001b[38;5;28;01mTrue\u001b[39;00m)\n\u001b[0;32m      3\u001b[0m weekly_df \u001b[38;5;241m=\u001b[39m df\u001b[38;5;241m.\u001b[39mresample(\u001b[38;5;124m\"\u001b[39m\u001b[38;5;124mW\u001b[39m\u001b[38;5;124m\"\u001b[39m)\u001b[38;5;241m.\u001b[39msum()\n\u001b[0;32m      5\u001b[0m weekly_df[\u001b[38;5;124m'\u001b[39m\u001b[38;5;124mVolume\u001b[39m\u001b[38;5;124m'\u001b[39m]\n",
      "\u001b[1;31mNameError\u001b[0m: name 'df' is not defined"
     ]
    }
   ],
   "source": [
    "SYY.set_index(\"date\", inplace=True)\n",
    "weekly_df = df.resample(\"W\").sum()\n",
    "weekly_df['Volume']"
   ]
  },
  {
   "cell_type": "code",
   "execution_count": 193,
   "id": "1364c0be-717a-4aaa-b1e9-ea03ff23c4a7",
   "metadata": {},
   "outputs": [],
   "source": [
    "SYY.set_index(\"Date\", inplace=True)\n"
   ]
  },
  {
   "cell_type": "code",
   "execution_count": 194,
   "id": "c562a780-45c3-4bb1-b3c8-7bb3c801e0b4",
   "metadata": {},
   "outputs": [
    {
     "data": {
      "text/html": [
       "<div>\n",
       "<style scoped>\n",
       "    .dataframe tbody tr th:only-of-type {\n",
       "        vertical-align: middle;\n",
       "    }\n",
       "\n",
       "    .dataframe tbody tr th {\n",
       "        vertical-align: top;\n",
       "    }\n",
       "\n",
       "    .dataframe thead th {\n",
       "        text-align: right;\n",
       "    }\n",
       "</style>\n",
       "<table border=\"1\" class=\"dataframe\">\n",
       "  <thead>\n",
       "    <tr style=\"text-align: right;\">\n",
       "      <th></th>\n",
       "      <th>Open</th>\n",
       "      <th>High</th>\n",
       "      <th>Low</th>\n",
       "      <th>Close</th>\n",
       "      <th>Volume</th>\n",
       "      <th>Dividends</th>\n",
       "      <th>Stock Splits</th>\n",
       "    </tr>\n",
       "    <tr>\n",
       "      <th>Date</th>\n",
       "      <th></th>\n",
       "      <th></th>\n",
       "      <th></th>\n",
       "      <th></th>\n",
       "      <th></th>\n",
       "      <th></th>\n",
       "      <th></th>\n",
       "    </tr>\n",
       "  </thead>\n",
       "  <tbody>\n",
       "    <tr>\n",
       "      <th>2017-01-08</th>\n",
       "      <td>180.242</td>\n",
       "      <td>181.998</td>\n",
       "      <td>179.466</td>\n",
       "      <td>180.851</td>\n",
       "      <td>15269600</td>\n",
       "      <td>0.33</td>\n",
       "      <td>0.0</td>\n",
       "    </tr>\n",
       "    <tr>\n",
       "      <th>2017-01-15</th>\n",
       "      <td>226.957</td>\n",
       "      <td>227.844</td>\n",
       "      <td>225.857</td>\n",
       "      <td>226.809</td>\n",
       "      <td>13889200</td>\n",
       "      <td>0.00</td>\n",
       "      <td>0.0</td>\n",
       "    </tr>\n",
       "    <tr>\n",
       "      <th>2017-01-22</th>\n",
       "      <td>179.751</td>\n",
       "      <td>180.711</td>\n",
       "      <td>177.845</td>\n",
       "      <td>178.674</td>\n",
       "      <td>16316000</td>\n",
       "      <td>0.00</td>\n",
       "      <td>0.0</td>\n",
       "    </tr>\n",
       "    <tr>\n",
       "      <th>2017-01-29</th>\n",
       "      <td>219.599</td>\n",
       "      <td>220.099</td>\n",
       "      <td>217.726</td>\n",
       "      <td>218.309</td>\n",
       "      <td>16117100</td>\n",
       "      <td>0.00</td>\n",
       "      <td>0.0</td>\n",
       "    </tr>\n",
       "    <tr>\n",
       "      <th>2017-02-05</th>\n",
       "      <td>215.713</td>\n",
       "      <td>216.879</td>\n",
       "      <td>214.589</td>\n",
       "      <td>215.312</td>\n",
       "      <td>20644200</td>\n",
       "      <td>0.00</td>\n",
       "      <td>0.0</td>\n",
       "    </tr>\n",
       "    <tr>\n",
       "      <th>...</th>\n",
       "      <td>...</td>\n",
       "      <td>...</td>\n",
       "      <td>...</td>\n",
       "      <td>...</td>\n",
       "      <td>...</td>\n",
       "      <td>...</td>\n",
       "      <td>...</td>\n",
       "    </tr>\n",
       "    <tr>\n",
       "      <th>2022-12-04</th>\n",
       "      <td>406.187</td>\n",
       "      <td>409.540</td>\n",
       "      <td>402.643</td>\n",
       "      <td>406.272</td>\n",
       "      <td>10603000</td>\n",
       "      <td>0.00</td>\n",
       "      <td>0.0</td>\n",
       "    </tr>\n",
       "    <tr>\n",
       "      <th>2022-12-11</th>\n",
       "      <td>399.793</td>\n",
       "      <td>401.536</td>\n",
       "      <td>395.748</td>\n",
       "      <td>397.577</td>\n",
       "      <td>7323500</td>\n",
       "      <td>0.00</td>\n",
       "      <td>0.0</td>\n",
       "    </tr>\n",
       "    <tr>\n",
       "      <th>2022-12-18</th>\n",
       "      <td>385.490</td>\n",
       "      <td>388.293</td>\n",
       "      <td>379.067</td>\n",
       "      <td>383.395</td>\n",
       "      <td>14398100</td>\n",
       "      <td>0.00</td>\n",
       "      <td>0.0</td>\n",
       "    </tr>\n",
       "    <tr>\n",
       "      <th>2022-12-25</th>\n",
       "      <td>368.770</td>\n",
       "      <td>371.697</td>\n",
       "      <td>363.769</td>\n",
       "      <td>368.136</td>\n",
       "      <td>10867400</td>\n",
       "      <td>0.00</td>\n",
       "      <td>0.0</td>\n",
       "    </tr>\n",
       "    <tr>\n",
       "      <th>2023-01-01</th>\n",
       "      <td>293.645</td>\n",
       "      <td>294.506</td>\n",
       "      <td>290.121</td>\n",
       "      <td>291.987</td>\n",
       "      <td>8431000</td>\n",
       "      <td>0.00</td>\n",
       "      <td>0.0</td>\n",
       "    </tr>\n",
       "  </tbody>\n",
       "</table>\n",
       "<p>313 rows × 7 columns</p>\n",
       "</div>"
      ],
      "text/plain": [
       "               Open     High      Low    Close    Volume  Dividends  \\\n",
       "Date                                                                  \n",
       "2017-01-08  180.242  181.998  179.466  180.851  15269600       0.33   \n",
       "2017-01-15  226.957  227.844  225.857  226.809  13889200       0.00   \n",
       "2017-01-22  179.751  180.711  177.845  178.674  16316000       0.00   \n",
       "2017-01-29  219.599  220.099  217.726  218.309  16117100       0.00   \n",
       "2017-02-05  215.713  216.879  214.589  215.312  20644200       0.00   \n",
       "...             ...      ...      ...      ...       ...        ...   \n",
       "2022-12-04  406.187  409.540  402.643  406.272  10603000       0.00   \n",
       "2022-12-11  399.793  401.536  395.748  397.577   7323500       0.00   \n",
       "2022-12-18  385.490  388.293  379.067  383.395  14398100       0.00   \n",
       "2022-12-25  368.770  371.697  363.769  368.136  10867400       0.00   \n",
       "2023-01-01  293.645  294.506  290.121  291.987   8431000       0.00   \n",
       "\n",
       "            Stock Splits  \n",
       "Date                      \n",
       "2017-01-08           0.0  \n",
       "2017-01-15           0.0  \n",
       "2017-01-22           0.0  \n",
       "2017-01-29           0.0  \n",
       "2017-02-05           0.0  \n",
       "...                  ...  \n",
       "2022-12-04           0.0  \n",
       "2022-12-11           0.0  \n",
       "2022-12-18           0.0  \n",
       "2022-12-25           0.0  \n",
       "2023-01-01           0.0  \n",
       "\n",
       "[313 rows x 7 columns]"
      ]
     },
     "execution_count": 194,
     "metadata": {},
     "output_type": "execute_result"
    }
   ],
   "source": [
    "SYY.resample(\"W\").sum()"
   ]
  },
  {
   "cell_type": "code",
   "execution_count": 44,
   "id": "bc38298d-d858-403b-9689-ca47bc60efb1",
   "metadata": {},
   "outputs": [],
   "source": [
    "# Ex 6 \n",
    "# Which company recorded the lowest total return over the whole period?"
   ]
  },
  {
   "cell_type": "code",
   "execution_count": 64,
   "id": "35a8b5e1-51a6-4408-a1b0-799a9a567179",
   "metadata": {},
   "outputs": [],
   "source": [
    "total_returns_list = []\n",
    "\n",
    "for company in companies_list:\n",
    "    initial_value = company.iloc[0]['Close']\n",
    "    final_value = company.iloc[-1]['Close']\n",
    "    total_return = (final_value - initial_value)/initial_value\n",
    "    total_returns_list.append(total_return)"
   ]
  },
  {
   "cell_type": "code",
   "execution_count": 177,
   "id": "ba218dbf-72ce-4e5b-a0dd-fa1128633acd",
   "metadata": {},
   "outputs": [],
   "source": [
    "lowest_return = np.min(total_returns_list)"
   ]
  },
  {
   "cell_type": "code",
   "execution_count": 72,
   "id": "c1b0b65c-591d-4aca-9a1c-6745539b11d7",
   "metadata": {},
   "outputs": [
    {
     "data": {
      "text/plain": [
       "[0.12969992577669387,\n",
       " 1.1615693744944027,\n",
       " 0.0842506925097191,\n",
       " 0.6128867012628344]"
      ]
     },
     "execution_count": 72,
     "metadata": {},
     "output_type": "execute_result"
    }
   ],
   "source": [
    "total_returns_list"
   ]
  },
  {
   "cell_type": "code",
   "execution_count": 179,
   "id": "8bd416ae-53b3-43eb-8534-427a20153198",
   "metadata": {},
   "outputs": [
    {
     "name": "stdout",
     "output_type": "stream",
     "text": [
      "MTB has recorded the lowest total return: 0.0842506925097191\n"
     ]
    }
   ],
   "source": [
    "print(f'{companies_names[2]} has recorded the lowest total return: {lowest_return}')"
   ]
  },
  {
   "cell_type": "code",
   "execution_count": null,
   "id": "8046007c-10ed-448b-8c9a-59aa644d759f",
   "metadata": {},
   "outputs": [],
   "source": []
  },
  {
   "cell_type": "code",
   "execution_count": null,
   "id": "5b5b46b4-5e0a-481c-9a98-4f25fef61802",
   "metadata": {},
   "outputs": [],
   "source": []
  },
  {
   "cell_type": "code",
   "execution_count": null,
   "id": "2640062d-3310-478c-b6bb-4ceef855c0ec",
   "metadata": {},
   "outputs": [],
   "source": [
    "# Ex 7 \n",
    "# Create a new column volume_class based on the volume column into categories (e.g., \"Low\", \"Medium\", \"High\") and use tertile thresholds for the classes."
   ]
  },
  {
   "cell_type": "code",
   "execution_count": 180,
   "id": "e79ac422-4760-4064-9a65-bbd11ea33bb4",
   "metadata": {},
   "outputs": [
    {
     "data": {
      "text/plain": [
       "array([2005640., 2708040.])"
      ]
     },
     "execution_count": 180,
     "metadata": {},
     "output_type": "execute_result"
    }
   ],
   "source": [
    "np.percentile(SYY['Volume'], (30, 60))"
   ]
  },
  {
   "cell_type": "code",
   "execution_count": 181,
   "id": "c7a06bbb-9340-46de-bb93-8e4f0ef9cb86",
   "metadata": {},
   "outputs": [
    {
     "name": "stdout",
     "output_type": "stream",
     "text": [
      "[1787867. 2589322.]\n",
      "[623379. 854994.]\n",
      "[677397. 965598.]\n",
      "[2066391. 2879872.]\n"
     ]
    }
   ],
   "source": [
    "for company in companies_list:\n",
    "    volume_tertiles = np.percentile(company['Volume'], (33, 66))\n",
    "    company['Volume']\n",
    "    print(volume_tertiles)"
   ]
  },
  {
   "cell_type": "code",
   "execution_count": 182,
   "id": "82e0b1be-2c83-47c7-b076-8ee07233e17f",
   "metadata": {},
   "outputs": [
    {
     "data": {
      "text/plain": [
       "0       False\n",
       "1       False\n",
       "2       False\n",
       "3       False\n",
       "4       False\n",
       "        ...  \n",
       "1505     True\n",
       "1506    False\n",
       "1507    False\n",
       "1508     True\n",
       "1509     True\n",
       "Name: Volume, Length: 1510, dtype: bool"
      ]
     },
     "execution_count": 182,
     "metadata": {},
     "output_type": "execute_result"
    }
   ],
   "source": [
    "SYY['Volume'] <= np.percentile(SYY['Volume'], (33, 66))[0]"
   ]
  },
  {
   "cell_type": "code",
   "execution_count": null,
   "id": "58a109e3-6f17-4400-98e1-f5c7146d19a4",
   "metadata": {},
   "outputs": [],
   "source": []
  },
  {
   "cell_type": "code",
   "execution_count": null,
   "id": "9a28d062-34db-4e13-994f-33e23853e3eb",
   "metadata": {},
   "outputs": [],
   "source": []
  },
  {
   "cell_type": "code",
   "execution_count": null,
   "id": "31e7a4f7-52bb-419a-93f5-6a7cc7064e22",
   "metadata": {},
   "outputs": [],
   "source": [
    "# Ex 8 \n",
    "# A. Plot the log-returns of the companies (ideally in the same plot). B. Show the log-return distribution of the companies (ideally in the same plot)."
   ]
  },
  {
   "cell_type": "code",
   "execution_count": 89,
   "id": "790c2384-112b-4992-91f1-544c200b583e",
   "metadata": {},
   "outputs": [],
   "source": [
    "all_log_returns = []\n",
    "\n",
    "for company in companies_list:\n",
    "    lrets = np.log(company['Close']/company['Close'].shift(1))\n",
    "    all_log_returns.append(lrets)"
   ]
  },
  {
   "cell_type": "code",
   "execution_count": 98,
   "id": "a5898342-4f9b-49e3-9e78-ecfe6c9bde86",
   "metadata": {},
   "outputs": [
    {
     "data": {
      "text/plain": [
       "['CPB', 'GPC', 'MTB', 'SYY']"
      ]
     },
     "execution_count": 98,
     "metadata": {},
     "output_type": "execute_result"
    }
   ],
   "source": [
    "companies_names"
   ]
  },
  {
   "cell_type": "code",
   "execution_count": 101,
   "id": "52475da6-b311-4673-9ac3-a2caaea340e5",
   "metadata": {},
   "outputs": [],
   "source": [
    "lrets_df = pd.DataFrame({'CPB': all_log_returns[0], 'GPC': all_log_returns[1], 'MTB': all_log_returns[2], 'SYY': all_log_returns[3]})"
   ]
  },
  {
   "cell_type": "code",
   "execution_count": 105,
   "id": "c66d3eea-4f34-49ad-b824-4bf099ee32db",
   "metadata": {},
   "outputs": [
    {
     "data": {
      "text/plain": [
       "<Axes: >"
      ]
     },
     "execution_count": 105,
     "metadata": {},
     "output_type": "execute_result"
    },
    {
     "data": {
      "image/png": "[encoded data removed]",
      "text/plain": [
       "<Figure size 640x480 with 1 Axes>"
      ]
     },
     "metadata": {},
     "output_type": "display_data"
    }
   ],
   "source": [
    "lrets_df.plot()"
   ]
  },
  {
   "cell_type": "code",
   "execution_count": 106,
   "id": "0afd787f-932e-45af-80d1-572d3a9bceb1",
   "metadata": {},
   "outputs": [
    {
     "data": {
      "text/plain": [
       "array([[<Axes: title={'center': 'CPB'}>, <Axes: title={'center': 'GPC'}>],\n",
       "       [<Axes: title={'center': 'MTB'}>, <Axes: title={'center': 'SYY'}>]],\n",
       "      dtype=object)"
      ]
     },
     "execution_count": 106,
     "metadata": {},
     "output_type": "execute_result"
    },
    {
     "data": {
      "image/png": "[encoded data removed]",
      "text/plain": [
       "<Figure size 640x480 with 4 Axes>"
      ]
     },
     "metadata": {},
     "output_type": "display_data"
    }
   ],
   "source": [
    "lrets_df.hist()"
   ]
  },
  {
   "cell_type": "markdown",
   "id": "3089defb-e8bb-4fe3-936c-dc1e85a1016d",
   "metadata": {},
   "source": [
    "Perhaps a bit more refined plots:"
   ]
  },
  {
   "cell_type": "code",
   "execution_count": null,
   "id": "bd72266a-94a7-47af-8cd4-dca8ad9e552e",
   "metadata": {},
   "outputs": [],
   "source": []
  },
  {
   "cell_type": "code",
   "execution_count": null,
   "id": "e9c1fb26-1ca2-457f-aa99-3749651ee076",
   "metadata": {},
   "outputs": [],
   "source": []
  },
  {
   "cell_type": "markdown",
   "id": "30d9a7fe-f9c9-44b9-a16a-245a5456156a",
   "metadata": {},
   "source": [
    "# Part 2"
   ]
  },
  {
   "cell_type": "code",
   "execution_count": 111,
   "id": "aa21ee5b-35b3-43a3-bef9-2f4453707aeb",
   "metadata": {},
   "outputs": [],
   "source": [
    "url = \"https://ies-fsv.s3.eu-central-1.amazonaws.com/companies/companies_no_subindustry.csv\"\n",
    "df2 = pd.read_csv(url)"
   ]
  },
  {
   "cell_type": "code",
   "execution_count": 112,
   "id": "6ff60239-9983-4886-9018-dd87ff7ed0df",
   "metadata": {},
   "outputs": [
    {
     "data": {
      "text/html": [
       "<div>\n",
       "<style scoped>\n",
       "    .dataframe tbody tr th:only-of-type {\n",
       "        vertical-align: middle;\n",
       "    }\n",
       "\n",
       "    .dataframe tbody tr th {\n",
       "        vertical-align: top;\n",
       "    }\n",
       "\n",
       "    .dataframe thead th {\n",
       "        text-align: right;\n",
       "    }\n",
       "</style>\n",
       "<table border=\"1\" class=\"dataframe\">\n",
       "  <thead>\n",
       "    <tr style=\"text-align: right;\">\n",
       "      <th></th>\n",
       "      <th>Symbol</th>\n",
       "      <th>Security</th>\n",
       "      <th>GICS_Sector</th>\n",
       "      <th>hq</th>\n",
       "      <th>included</th>\n",
       "      <th>Founded</th>\n",
       "    </tr>\n",
       "  </thead>\n",
       "  <tbody>\n",
       "    <tr>\n",
       "      <th>0</th>\n",
       "      <td>MMM</td>\n",
       "      <td>3M</td>\n",
       "      <td>Industrials</td>\n",
       "      <td>Saint Paul, Minnesota</td>\n",
       "      <td>09.08.1976</td>\n",
       "      <td>1902</td>\n",
       "    </tr>\n",
       "    <tr>\n",
       "      <th>1</th>\n",
       "      <td>AOS</td>\n",
       "      <td>A. O. Smith</td>\n",
       "      <td>Industrials</td>\n",
       "      <td>Milwaukee, Wisconsin</td>\n",
       "      <td>26.07.2017</td>\n",
       "      <td>1916</td>\n",
       "    </tr>\n",
       "    <tr>\n",
       "      <th>2</th>\n",
       "      <td>ABT</td>\n",
       "      <td>Abbott</td>\n",
       "      <td>Health Care</td>\n",
       "      <td>North Chicago, Illinois</td>\n",
       "      <td>31.03.1964</td>\n",
       "      <td>1888</td>\n",
       "    </tr>\n",
       "    <tr>\n",
       "      <th>3</th>\n",
       "      <td>ABBV</td>\n",
       "      <td>AbbVie</td>\n",
       "      <td>Health Care</td>\n",
       "      <td>North Chicago, Illinois</td>\n",
       "      <td>31.12.2012</td>\n",
       "      <td>2013 (1888)</td>\n",
       "    </tr>\n",
       "    <tr>\n",
       "      <th>4</th>\n",
       "      <td>ABMD</td>\n",
       "      <td>Abiomed</td>\n",
       "      <td>Health Care</td>\n",
       "      <td>Danvers, Massachusetts</td>\n",
       "      <td>31.05.2018</td>\n",
       "      <td>1981</td>\n",
       "    </tr>\n",
       "    <tr>\n",
       "      <th>...</th>\n",
       "      <td>...</td>\n",
       "      <td>...</td>\n",
       "      <td>...</td>\n",
       "      <td>...</td>\n",
       "      <td>...</td>\n",
       "      <td>...</td>\n",
       "    </tr>\n",
       "    <tr>\n",
       "      <th>498</th>\n",
       "      <td>YUM</td>\n",
       "      <td>Yum! Brands</td>\n",
       "      <td>Consumer Discretionary</td>\n",
       "      <td>Louisville, Kentucky</td>\n",
       "      <td>06.10.1997</td>\n",
       "      <td>1997</td>\n",
       "    </tr>\n",
       "    <tr>\n",
       "      <th>499</th>\n",
       "      <td>ZBRA</td>\n",
       "      <td>Zebra Technologies</td>\n",
       "      <td>Information Technology</td>\n",
       "      <td>Lincolnshire, Illinois</td>\n",
       "      <td>23.12.2019</td>\n",
       "      <td>1969</td>\n",
       "    </tr>\n",
       "    <tr>\n",
       "      <th>500</th>\n",
       "      <td>ZBH</td>\n",
       "      <td>Zimmer Biomet</td>\n",
       "      <td>Health Care</td>\n",
       "      <td>Warsaw, Indiana</td>\n",
       "      <td>07.08.2001</td>\n",
       "      <td>1927</td>\n",
       "    </tr>\n",
       "    <tr>\n",
       "      <th>501</th>\n",
       "      <td>ZION</td>\n",
       "      <td>Zions Bancorporation</td>\n",
       "      <td>Financials</td>\n",
       "      <td>Salt Lake City, Utah</td>\n",
       "      <td>22.06.2001</td>\n",
       "      <td>1873</td>\n",
       "    </tr>\n",
       "    <tr>\n",
       "      <th>502</th>\n",
       "      <td>ZTS</td>\n",
       "      <td>Zoetis</td>\n",
       "      <td>Health Care</td>\n",
       "      <td>Parsippany, New Jersey</td>\n",
       "      <td>21.06.2013</td>\n",
       "      <td>1952</td>\n",
       "    </tr>\n",
       "  </tbody>\n",
       "</table>\n",
       "<p>503 rows × 6 columns</p>\n",
       "</div>"
      ],
      "text/plain": [
       "    Symbol              Security             GICS_Sector  \\\n",
       "0      MMM                    3M             Industrials   \n",
       "1      AOS           A. O. Smith             Industrials   \n",
       "2      ABT                Abbott             Health Care   \n",
       "3     ABBV                AbbVie             Health Care   \n",
       "4     ABMD               Abiomed             Health Care   \n",
       "..     ...                   ...                     ...   \n",
       "498    YUM           Yum! Brands  Consumer Discretionary   \n",
       "499   ZBRA    Zebra Technologies  Information Technology   \n",
       "500    ZBH         Zimmer Biomet             Health Care   \n",
       "501   ZION  Zions Bancorporation              Financials   \n",
       "502    ZTS                Zoetis             Health Care   \n",
       "\n",
       "                          hq    included      Founded  \n",
       "0      Saint Paul, Minnesota  09.08.1976         1902  \n",
       "1       Milwaukee, Wisconsin  26.07.2017         1916  \n",
       "2    North Chicago, Illinois  31.03.1964         1888  \n",
       "3    North Chicago, Illinois  31.12.2012  2013 (1888)  \n",
       "4     Danvers, Massachusetts  31.05.2018         1981  \n",
       "..                       ...         ...          ...  \n",
       "498     Louisville, Kentucky  06.10.1997         1997  \n",
       "499   Lincolnshire, Illinois  23.12.2019         1969  \n",
       "500          Warsaw, Indiana  07.08.2001         1927  \n",
       "501     Salt Lake City, Utah  22.06.2001         1873  \n",
       "502   Parsippany, New Jersey  21.06.2013         1952  \n",
       "\n",
       "[503 rows x 6 columns]"
      ]
     },
     "execution_count": 112,
     "metadata": {},
     "output_type": "execute_result"
    }
   ],
   "source": [
    "df2"
   ]
  },
  {
   "cell_type": "markdown",
   "id": "5463d766-9b93-4438-a6ea-da5feaa219aa",
   "metadata": {},
   "source": [
    "1. (1pt task) Find out how many companies do not filled-in the date of inclusion\n",
    "(column “included”) to S&P 500.\n",
    "2. Delete the companies with no inclusion date and calculate which company is\n",
    "the oldest/youngest constituent and tell us the median age of a constituent in\n",
    "the sample. If you need to fix anything or make any assumptions, comment on\n",
    "them in the code.\n",
    "Hint: pd.to_datetime (some date column, dayfirst=True, errors='coerce')\n",
    "3. Describe the distribution of companies across sectors and create a plot that\n",
    "demonstrates the proportionality of the sectors (i.e. pie plot, or something like\n",
    "this)\n",
    "4. Parse the “hq” column, extract the state of the hq and describe the distribution\n",
    "of the states\n",
    "\n",
    "5. Join the dataset with this one: https://ies-fsv.s3.eu-central-\n",
    "1.amazonaws.com/companies/companies_subindustry.csv\n",
    "\n",
    "And join the two datasets based on an appropriate key. Report on distribution of\n",
    "subindustries for the “Health Care” GICS sector."
   ]
  },
  {
   "cell_type": "code",
   "execution_count": 119,
   "id": "867d791e-091d-4cbb-bb7c-e8a31eb44e80",
   "metadata": {},
   "outputs": [
    {
     "data": {
      "text/plain": [
       "True"
      ]
     },
     "execution_count": 119,
     "metadata": {},
     "output_type": "execute_result"
    }
   ],
   "source": [
    "df2['included'].isna().any()"
   ]
  },
  {
   "cell_type": "code",
   "execution_count": 129,
   "id": "5710bdc0-80d9-41d8-bc4f-6d5c00be199d",
   "metadata": {},
   "outputs": [],
   "source": [
    "df2_missing_date = df2[df2['included'].isnull()]"
   ]
  },
  {
   "cell_type": "code",
   "execution_count": 140,
   "id": "cd8e7ea6-8065-4530-8ff4-b22c3cf44cf1",
   "metadata": {},
   "outputs": [
    {
     "data": {
      "text/plain": [
       "array(['AMD', 'ED', 'GLW', 'DHR', 'DRI', 'D', 'ETN', 'FITB', 'FE', 'BEN',\n",
       "       'FCX', 'GE', 'HUM', 'HBAN', 'KLAC', 'L', 'MAR', 'MCK', 'MET',\n",
       "       'MCO', 'MS', 'MSI', 'NI', 'NTRS', 'OMC', 'PARA', 'PAYX', 'PNW',\n",
       "       'PPL', 'QCOM', 'RTX', 'ROK', 'SPGI', 'SRE', 'STT', 'TROW', 'TPR',\n",
       "       'TXN', 'USB', 'VLO', 'WM', 'WAT', 'WRK', 'WY', 'WHR'], dtype=object)"
      ]
     },
     "execution_count": 140,
     "metadata": {},
     "output_type": "execute_result"
    }
   ],
   "source": [
    "df2_missing_date['Symbol'].unique()"
   ]
  },
  {
   "cell_type": "code",
   "execution_count": 142,
   "id": "2537b8f6-2bfa-4636-9266-cd8c0d1fe020",
   "metadata": {},
   "outputs": [],
   "source": [
    "industries_to_drop = ['AMD', 'ED', 'GLW', 'DHR', 'DRI', 'D', 'ETN', 'FITB', 'FE', 'BEN',\n",
    "       'FCX', 'GE', 'HUM', 'HBAN', 'KLAC', 'L', 'MAR', 'MCK', 'MET',\n",
    "       'MCO', 'MS', 'MSI', 'NI', 'NTRS', 'OMC', 'PARA', 'PAYX', 'PNW',\n",
    "       'PPL', 'QCOM', 'RTX', 'ROK', 'SPGI', 'SRE', 'STT', 'TROW', 'TPR',\n",
    "       'TXN', 'USB', 'VLO', 'WM', 'WAT', 'WRK', 'WY', 'WHR']"
   ]
  },
  {
   "cell_type": "code",
   "execution_count": 144,
   "id": "c462ae71-4deb-4a2b-a0f4-bbb372f44deb",
   "metadata": {},
   "outputs": [
    {
     "ename": "ValueError",
     "evalue": "The truth value of a Series is ambiguous. Use a.empty, a.bool(), a.item(), a.any() or a.all().",
     "output_type": "error",
     "traceback": [
      "\u001b[1;31m---------------------------------------------------------------------------\u001b[0m",
      "\u001b[1;31mValueError\u001b[0m                                Traceback (most recent call last)",
      "\u001b[1;32m~\\AppData\\Local\\Temp\\ipykernel_51644\\3831434989.py\u001b[0m in \u001b[0;36m?\u001b[1;34m()\u001b[0m\n\u001b[1;32m----> 1\u001b[1;33m \u001b[0mdf2\u001b[0m\u001b[1;33m[\u001b[0m\u001b[1;34m'Symbol'\u001b[0m\u001b[1;33m]\u001b[0m \u001b[1;32min\u001b[0m \u001b[0mindustries_to_drop\u001b[0m\u001b[1;33m\u001b[0m\u001b[1;33m\u001b[0m\u001b[0m\n\u001b[0m",
      "\u001b[1;32m~\\anaconda3\\Lib\\site-packages\\pandas\\core\\generic.py\u001b[0m in \u001b[0;36m?\u001b[1;34m(self)\u001b[0m\n\u001b[0;32m   1575\u001b[0m     \u001b[1;33m@\u001b[0m\u001b[0mfinal\u001b[0m\u001b[1;33m\u001b[0m\u001b[1;33m\u001b[0m\u001b[0m\n\u001b[0;32m   1576\u001b[0m     \u001b[1;32mdef\u001b[0m \u001b[0m__nonzero__\u001b[0m\u001b[1;33m(\u001b[0m\u001b[0mself\u001b[0m\u001b[1;33m)\u001b[0m \u001b[1;33m->\u001b[0m \u001b[0mNoReturn\u001b[0m\u001b[1;33m:\u001b[0m\u001b[1;33m\u001b[0m\u001b[1;33m\u001b[0m\u001b[0m\n\u001b[1;32m-> 1577\u001b[1;33m         raise ValueError(\n\u001b[0m\u001b[0;32m   1578\u001b[0m             \u001b[1;34mf\"The truth value of a {type(self).__name__} is ambiguous. \"\u001b[0m\u001b[1;33m\u001b[0m\u001b[1;33m\u001b[0m\u001b[0m\n\u001b[0;32m   1579\u001b[0m             \u001b[1;34m\"Use a.empty, a.bool(), a.item(), a.any() or a.all().\"\u001b[0m\u001b[1;33m\u001b[0m\u001b[1;33m\u001b[0m\u001b[0m\n\u001b[0;32m   1580\u001b[0m         )\n",
      "\u001b[1;31mValueError\u001b[0m: The truth value of a Series is ambiguous. Use a.empty, a.bool(), a.item(), a.any() or a.all()."
     ]
    }
   ],
   "source": [
    "df2['Symbol'] in industries_to_drop"
   ]
  },
  {
   "cell_type": "code",
   "execution_count": 146,
   "id": "c359f8e7-5559-478b-b2e2-dbb48cefe715",
   "metadata": {},
   "outputs": [
    {
     "ename": "SyntaxError",
     "evalue": "invalid syntax (340417165.py, line 1)",
     "output_type": "error",
     "traceback": [
      "\u001b[1;36m  Cell \u001b[1;32mIn[146], line 1\u001b[1;36m\u001b[0m\n\u001b[1;33m    df2['Symbol'] is in industries_to_drop\u001b[0m\n\u001b[1;37m                     ^\u001b[0m\n\u001b[1;31mSyntaxError\u001b[0m\u001b[1;31m:\u001b[0m invalid syntax\n"
     ]
    }
   ],
   "source": [
    "df2['Symbol'] is in industries_to_drop"
   ]
  },
  {
   "cell_type": "code",
   "execution_count": null,
   "id": "e57483fb-96fa-4339-a52b-aa7e17659368",
   "metadata": {},
   "outputs": [],
   "source": [
    "df2.drop(df2[df2['city'] == 'Chicago'].index)"
   ]
  },
  {
   "cell_type": "code",
   "execution_count": null,
   "id": "c6873d69-7fd2-4a43-8ab6-87a0418fa3a1",
   "metadata": {},
   "outputs": [],
   "source": [
    "df2.drop"
   ]
  },
  {
   "cell_type": "code",
   "execution_count": 151,
   "id": "1e31d82b-0c54-466f-ab83-d2279ae96bd2",
   "metadata": {},
   "outputs": [
    {
     "data": {
      "text/plain": [
       "0       MMM\n",
       "1       AOS\n",
       "2       ABT\n",
       "3      ABBV\n",
       "4      ABMD\n",
       "       ... \n",
       "498     YUM\n",
       "499    ZBRA\n",
       "500     ZBH\n",
       "501    ZION\n",
       "502     ZTS\n",
       "Name: Symbol, Length: 503, dtype: object"
      ]
     },
     "execution_count": 151,
     "metadata": {},
     "output_type": "execute_result"
    }
   ],
   "source": [
    "df2['Symbol']"
   ]
  },
  {
   "cell_type": "code",
   "execution_count": null,
   "id": "6d77efaa-1c74-4dec-9693-d15ffa247abe",
   "metadata": {},
   "outputs": [],
   "source": []
  },
  {
   "cell_type": "code",
   "execution_count": null,
   "id": "11705bcd-0be2-4276-be6e-88b89cb5b8e7",
   "metadata": {},
   "outputs": [],
   "source": []
  },
  {
   "cell_type": "code",
   "execution_count": null,
   "id": "59a75cc9-ba5b-43c9-947d-4371cfc215f9",
   "metadata": {},
   "outputs": [],
   "source": []
  },
  {
   "cell_type": "markdown",
   "id": "fd7b5b86-30f8-439f-b992-53b560d0d6c4",
   "metadata": {},
   "source": [
    "## Part 3"
   ]
  },
  {
   "cell_type": "markdown",
   "id": "62f56370-b129-4e4d-8e0e-92fed95d8eeb",
   "metadata": {},
   "source": [
    "1. (1pt task) Generate four random variables from four different distributions\n",
    "(e.g. Normal, Uniform, etc.) each containing random number of observations\n",
    "between 100 and 500.\n",
    "2. (1pt task) Draw a figure with a matrix of plots where you show something\n",
    "about the random variables (e.g. pdf, cdf, histogram, boxplot, etc.)."
   ]
  },
  {
   "cell_type": "code",
   "execution_count": 159,
   "id": "4049f66d-9b03-4833-91b3-b0eed215b835",
   "metadata": {},
   "outputs": [
    {
     "data": {
      "text/plain": [
       "array([435.83191347, 467.83610198, 214.60064401, 290.47876674])"
      ]
     },
     "execution_count": 159,
     "metadata": {},
     "output_type": "execute_result"
    }
   ],
   "source": [
    "np.random.uniform(100, 500, 4) #uniform distribution"
   ]
  },
  {
   "cell_type": "code",
   "execution_count": 190,
   "id": "a9035aa1-adb9-4884-a7a7-187f0f2d6508",
   "metadata": {},
   "outputs": [
    {
     "data": {
      "text/plain": [
       "array([-0.53245325, -0.53241424, -1.08867489, -0.90109375])"
      ]
     },
     "execution_count": 190,
     "metadata": {},
     "output_type": "execute_result"
    }
   ],
   "source": [
    "np.random.standard_t(4,4)"
   ]
  },
  {
   "cell_type": "code",
   "execution_count": 188,
   "id": "bc4c8248-e4db-405d-8632-5dd132d426d6",
   "metadata": {},
   "outputs": [
    {
     "data": {
      "text/plain": [
       "array([100, 113, 100, 101])"
      ]
     },
     "execution_count": 188,
     "metadata": {},
     "output_type": "execute_result"
    }
   ],
   "source": [
    "np.random.poisson(100, 4)"
   ]
  }
 ],
 "metadata": {
  "kernelspec": {
   "display_name": "Python 3 (ipykernel)",
   "language": "python",
   "name": "python3"
  },
  "language_info": {
   "codemirror_mode": {
    "name": "ipython",
    "version": 3
   },
   "file_extension": ".py",
   "mimetype": "text/x-python",
   "name": "python",
   "nbconvert_exporter": "python",
   "pygments_lexer": "ipython3",
   "version": "3.11.5"
  }
 },
 "nbformat": 4,
 "nbformat_minor": 5
}
